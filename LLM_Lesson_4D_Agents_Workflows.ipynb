{
  "cells": [
    {
      "cell_type": "markdown",
      "metadata": {
        "id": "view-in-github",
        "colab_type": "text"
      },
      "source": [
        "<a href=\"https://colab.research.google.com/github/neoyipeng2018/acct725_teachingmaterials/blob/main/LLM_Lesson_4D_Agents_Workflows.ipynb\" target=\"_parent\"><img src=\"https://colab.research.google.com/assets/colab-badge.svg\" alt=\"Open In Colab\"/></a>"
      ]
    },
    {
      "cell_type": "markdown",
      "source": [
        "# Setup\n",
        "Source: https://langchain-ai.github.io/langgraph/tutorials/workflows/#building-blocks-the-augmented-llm\n",
        "![Augmented LLM](https://langchain-ai.github.io/langgraph/tutorials/workflows/img/augmented_llm.png)\n"
      ],
      "metadata": {
        "id": "49ZPFahYVb5C"
      }
    },
    {
      "cell_type": "code",
      "source": [
        "!pip install langgraph -qU\n",
        "!pip show langgraph #0.4.8"
      ],
      "metadata": {
        "colab": {
          "base_uri": "https://localhost:8080/"
        },
        "id": "W_eeWQUBRKcs",
        "outputId": "14c7423b-31b1-45c8-8729-fc993225ea4a"
      },
      "execution_count": 49,
      "outputs": [
        {
          "output_type": "stream",
          "name": "stdout",
          "text": [
            "Name: langgraph\n",
            "Version: 0.4.8\n",
            "Summary: Building stateful, multi-actor applications with LLMs\n",
            "Home-page: \n",
            "Author: \n",
            "Author-email: \n",
            "License: \n",
            "Location: /usr/local/lib/python3.11/dist-packages\n",
            "Requires: langchain-core, langgraph-checkpoint, langgraph-prebuilt, langgraph-sdk, pydantic, xxhash\n",
            "Required-by: \n"
          ]
        }
      ]
    },
    {
      "cell_type": "code",
      "source": [
        "!pip install langchain_core -qU\n",
        "!pip show langchain_core #0.3.63"
      ],
      "metadata": {
        "colab": {
          "base_uri": "https://localhost:8080/"
        },
        "id": "ERDwvk4uRRuh",
        "outputId": "3b587eda-1a63-4578-9313-7ce3b764db78"
      },
      "execution_count": 50,
      "outputs": [
        {
          "output_type": "stream",
          "name": "stdout",
          "text": [
            "Name: langchain-core\n",
            "Version: 0.3.65\n",
            "Summary: Building applications with LLMs through composability\n",
            "Home-page: \n",
            "Author: \n",
            "Author-email: \n",
            "License: MIT\n",
            "Location: /usr/local/lib/python3.11/dist-packages\n",
            "Requires: jsonpatch, langsmith, packaging, pydantic, PyYAML, tenacity, typing-extensions\n",
            "Required-by: langchain, langchain-community, langchain-groq, langchain-text-splitters, langgraph, langgraph-checkpoint, langgraph-prebuilt\n"
          ]
        }
      ]
    },
    {
      "cell_type": "code",
      "source": [
        "!pip install -qU langchain-groq\n",
        "!pip show langchain-groq # 0.3.2"
      ],
      "metadata": {
        "colab": {
          "base_uri": "https://localhost:8080/"
        },
        "id": "1FC-SL2sRsau",
        "outputId": "d906a904-7417-4442-ce57-b119b1418dd3"
      },
      "execution_count": 51,
      "outputs": [
        {
          "output_type": "stream",
          "name": "stdout",
          "text": [
            "Name: langchain-groq\n",
            "Version: 0.3.2\n",
            "Summary: An integration package connecting Groq and LangChain\n",
            "Home-page: \n",
            "Author: \n",
            "Author-email: \n",
            "License: MIT\n",
            "Location: /usr/local/lib/python3.11/dist-packages\n",
            "Requires: groq, langchain-core\n",
            "Required-by: \n"
          ]
        }
      ]
    },
    {
      "cell_type": "code",
      "source": [
        "import os\n",
        "import getpass\n",
        "\n",
        "from langchain_groq import ChatGroq\n",
        "\n",
        "def _set_env(var: str):\n",
        "    if not os.environ.get(var):\n",
        "        os.environ[var] = getpass.getpass(f\"{var}: \")\n",
        "\n",
        "\n",
        "_set_env(\"GROQ_API_KEY\")\n",
        "\n",
        "llm = ChatGroq(model=\"llama3-8b-8192\")"
      ],
      "metadata": {
        "id": "B0UYTIQoRkAB"
      },
      "execution_count": 52,
      "outputs": []
    },
    {
      "cell_type": "markdown",
      "source": [
        "# Function Calling or Structured Outputs"
      ],
      "metadata": {
        "id": "eZCpCxzlBkgv"
      }
    },
    {
      "cell_type": "code",
      "source": [
        "# Schema for structured output\n",
        "from pydantic import BaseModel, Field\n",
        "from typing_extensions import Literal\n",
        "\n",
        "class SearchQuery(BaseModel):\n",
        "    search_query: str = Field(None, description=\"Query that is optimized web search.\")\n",
        "    justification: str = Field(\n",
        "        None, description=\"Why this query is relevant to the user's request.\"\n",
        "    )\n",
        "\n",
        "# Augment the LLM with schema for structured output\n",
        "structured_llm = llm.with_structured_output(SearchQuery)\n",
        "\n",
        "# Invoke the augmented LLM\n",
        "output = structured_llm.invoke(\"How does Calcium CT score relate to high cholesterol?\")\n",
        "output"
      ],
      "metadata": {
        "colab": {
          "base_uri": "https://localhost:8080/"
        },
        "id": "KTFnxh0rCgDe",
        "outputId": "59ce51cf-b170-4bcb-8b43-a3f605059ecc"
      },
      "execution_count": 54,
      "outputs": [
        {
          "output_type": "execute_result",
          "data": {
            "text/plain": [
              "SearchQuery(search_query='Calcium CT score and high cholesterol', justification=None)"
            ]
          },
          "metadata": {},
          "execution_count": 54
        }
      ]
    },
    {
      "cell_type": "code",
      "source": [
        "output.search_query"
      ],
      "metadata": {
        "colab": {
          "base_uri": "https://localhost:8080/",
          "height": 35
        },
        "id": "9CjrgQuaZ9fm",
        "outputId": "0298f51d-9d0d-4a29-8b10-0834231163a7"
      },
      "execution_count": 56,
      "outputs": [
        {
          "output_type": "execute_result",
          "data": {
            "text/plain": [
              "'Calcium CT score and high cholesterol'"
            ],
            "application/vnd.google.colaboratory.intrinsic+json": {
              "type": "string"
            }
          },
          "metadata": {},
          "execution_count": 56
        }
      ]
    },
    {
      "cell_type": "code",
      "source": [
        "# Schema for structured output to use as routing logic\n",
        "class Route(BaseModel):\n",
        "    step: Literal[\"poem\", \"story\", \"joke\"] = Field(\n",
        "        None, description=\"The next step in the routing process\"\n",
        "    )\n",
        "\n",
        "# Augment the LLM with schema for structured output\n",
        "router = llm.with_structured_output(Route)"
      ],
      "metadata": {
        "id": "oU-xvI0fBpHc"
      },
      "execution_count": null,
      "outputs": []
    },
    {
      "cell_type": "code",
      "source": [
        "router.invoke(\"tell me a joke about x\")"
      ],
      "metadata": {
        "colab": {
          "base_uri": "https://localhost:8080/"
        },
        "id": "BIUHNBuwBpEK",
        "outputId": "c360b2a4-2ad5-497a-e2b5-350bea5c6ebf"
      },
      "execution_count": null,
      "outputs": [
        {
          "output_type": "execute_result",
          "data": {
            "text/plain": [
              "Route(step='joke')"
            ]
          },
          "metadata": {},
          "execution_count": 7
        }
      ]
    },
    {
      "cell_type": "code",
      "source": [
        "\n",
        "# Define a tool\n",
        "def multiply(a: int, b: int) -> int:\n",
        "    return a * b\n",
        "\n",
        "# Augment the LLM with tools\n",
        "llm_with_tools = llm.bind_tools([multiply])\n",
        "\n",
        "# Invoke the LLM with input that triggers the tool call\n",
        "msg = llm_with_tools.invoke(\"What is 2 times 3?\")\n",
        "\n",
        "# Get the tool call\n",
        "msg.tool_calls"
      ],
      "metadata": {
        "colab": {
          "base_uri": "https://localhost:8080/"
        },
        "id": "eEzFt1wBBpAs",
        "outputId": "35c84b61-5406-432b-9b63-eca19612e869"
      },
      "execution_count": null,
      "outputs": [
        {
          "output_type": "execute_result",
          "data": {
            "text/plain": [
              "[{'name': 'multiply',\n",
              "  'args': {'a': 2, 'b': 3},\n",
              "  'id': 'xbxa5m03g',\n",
              "  'type': 'tool_call'}]"
            ]
          },
          "metadata": {},
          "execution_count": 8
        }
      ]
    },
    {
      "cell_type": "code",
      "source": [
        "msg"
      ],
      "metadata": {
        "colab": {
          "base_uri": "https://localhost:8080/"
        },
        "id": "H6dvtRozMnf4",
        "outputId": "2abaeb2c-4455-488c-8423-1f73bd74722e"
      },
      "execution_count": null,
      "outputs": [
        {
          "output_type": "execute_result",
          "data": {
            "text/plain": [
              "AIMessage(content='', additional_kwargs={'tool_calls': [{'id': 'xbxa5m03g', 'function': {'arguments': '{\"a\":2,\"b\":3}', 'name': 'multiply'}, 'type': 'function'}]}, response_metadata={'token_usage': {'completion_tokens': 79, 'prompt_tokens': 895, 'total_tokens': 974, 'completion_time': 0.053330054, 'prompt_time': 0.099714351, 'queue_time': 0.06945942399999999, 'total_time': 0.153044405}, 'model_name': 'llama3-8b-8192', 'system_fingerprint': 'fp_8b7c3a83f7', 'finish_reason': 'tool_calls', 'logprobs': None}, id='run--5171e9ca-9b65-4032-8b4f-93e3d8413edb-0', tool_calls=[{'name': 'multiply', 'args': {'a': 2, 'b': 3}, 'id': 'xbxa5m03g', 'type': 'tool_call'}], usage_metadata={'input_tokens': 895, 'output_tokens': 79, 'total_tokens': 974})"
            ]
          },
          "metadata": {},
          "execution_count": 9
        }
      ]
    },
    {
      "cell_type": "markdown",
      "source": [
        "# Prompt Chaining\n",
        "![Chaining](https://langchain-ai.github.io/langgraph/tutorials/workflows/img/prompt_chain.png)"
      ],
      "metadata": {
        "id": "POhpdTX2SZZb"
      }
    },
    {
      "cell_type": "markdown",
      "source": [
        "## Basic Example"
      ],
      "metadata": {
        "id": "nL-dRLOnaBW-"
      }
    },
    {
      "cell_type": "code",
      "source": [
        "from typing_extensions import TypedDict\n",
        "from langgraph.graph import StateGraph, START, END\n",
        "from IPython.display import Image, display\n",
        "\n",
        "# Graph state\n",
        "class State(TypedDict):\n",
        "    topic: str\n",
        "    joke: str\n",
        "    improved_joke: str\n",
        "    final_joke: str\n",
        "\n",
        "# Nodes\n",
        "def generate_joke(state: State):\n",
        "    \"\"\"First LLM call to generate initial joke\"\"\"\n",
        "\n",
        "    msg = llm.invoke(f\"Write a short joke about {state['topic']}\")\n",
        "    return {\"joke\": msg.content}\n",
        "\n",
        "def check_punchline(state: State):\n",
        "    \"\"\"Gate function to check if the joke has a punchline\"\"\"\n",
        "\n",
        "    # Simple check - does the joke contain \"?\" or \"!\"\n",
        "    if \"?\" in state[\"joke\"] or \"!\" in state[\"joke\"]:\n",
        "        return \"Pass\"\n",
        "    return \"Fail\"\n",
        "\n",
        "\n",
        "def improve_joke(state: State):\n",
        "    \"\"\"Second LLM call to improve the joke\"\"\"\n",
        "\n",
        "    msg = llm.invoke(f\"Make this joke funnier by adding wordplay: {state['joke']}\")\n",
        "    return {\"improved_joke\": msg.content}\n",
        "\n",
        "\n",
        "def polish_joke(state: State):\n",
        "    \"\"\"Third LLM call for final polish\"\"\"\n",
        "\n",
        "    msg = llm.invoke(f\"Add a surprising twist to this joke: {state['improved_joke']}\")\n",
        "    return {\"final_joke\": msg.content}\n",
        "\n",
        "\n",
        "# Build workflow\n",
        "workflow = StateGraph(State)\n",
        "\n",
        "# Add nodes\n",
        "workflow.add_node(\"generate_joke\", generate_joke)\n",
        "workflow.add_node(\"improve_joke\", improve_joke)\n",
        "workflow.add_node(\"polish_joke\", polish_joke)\n",
        "\n",
        "# Add edges to connect nodes\n",
        "workflow.add_edge(START, \"generate_joke\")\n",
        "workflow.add_conditional_edges(\n",
        "    \"generate_joke\", check_punchline, {\"Fail\": \"improve_joke\", \"Pass\": END}\n",
        ")\n",
        "workflow.add_edge(\"improve_joke\", \"polish_joke\")\n",
        "workflow.add_edge(\"polish_joke\", END)\n",
        "\n",
        "# Compile\n",
        "chain = workflow.compile()\n",
        "\n",
        "# Show workflow\n",
        "display(Image(chain.get_graph().draw_mermaid_png()))\n",
        "\n",
        "# Invoke\n",
        "state = chain.invoke({\"topic\": \"cats\"})\n",
        "print(\"Initial joke:\")\n",
        "print(state[\"joke\"])\n",
        "print(\"\\n--- --- ---\\n\")\n",
        "if \"improved_joke\" in state:\n",
        "    print(\"Improved joke:\")\n",
        "    print(state[\"improved_joke\"])\n",
        "    print(\"\\n--- --- ---\\n\")\n",
        "\n",
        "    print(\"Final joke:\")\n",
        "    print(state[\"final_joke\"])\n",
        "else:\n",
        "    print(\"Joke failed quality gate - no punchline detected!\")"
      ],
      "metadata": {
        "id": "eRuNwEPsRZaJ",
        "colab": {
          "base_uri": "https://localhost:8080/",
          "height": 640
        },
        "outputId": "1937df69-08e2-40ba-a9c9-ed951b702b7c"
      },
      "execution_count": null,
      "outputs": [
        {
          "output_type": "display_data",
          "data": {
            "image/png": "[encoded data removed]",
            "text/plain": [
              "<IPython.core.display.Image object>"
            ]
          },
          "metadata": {}
        },
        {
          "output_type": "stream",
          "name": "stdout",
          "text": [
            "Initial joke:\n",
            "Why did the cat join a band?\n",
            "\n",
            "Because it wanted to be the purr-cussionist!\n",
            "\n",
            "--- --- ---\n",
            "\n",
            "Joke failed quality gate - no punchline detected!\n"
          ]
        }
      ]
    },
    {
      "cell_type": "markdown",
      "source": [
        "## Apply this to sentiment and improve the sentiment scoring for `20 hardest sentences`"
      ],
      "metadata": {
        "id": "XTaZHHkRaFQQ"
      }
    },
    {
      "cell_type": "code",
      "source": [
        "!pip install datasets -qU"
      ],
      "metadata": {
        "colab": {
          "base_uri": "https://localhost:8080/"
        },
        "id": "1Xd2FbZ1Fwi-",
        "outputId": "22df3a5d-d910-45ff-d8ab-1dc9753ee489"
      },
      "execution_count": null,
      "outputs": [
        {
          "output_type": "stream",
          "name": "stdout",
          "text": [
            "\u001b[?25l   \u001b[90m━━━━━━━━━━━━━━━━━━━━━━━━━━━━━━━━━━━━━━━━\u001b[0m \u001b[32m0.0/491.5 kB\u001b[0m \u001b[31m?\u001b[0m eta \u001b[36m-:--:--\u001b[0m\r\u001b[2K   \u001b[91m━━━━━━━━━━━━━━━━━━━━━━━━━━━━━━━\u001b[0m\u001b[91m╸\u001b[0m\u001b[90m━━━━━━━━\u001b[0m \u001b[32m389.1/491.5 kB\u001b[0m \u001b[31m11.9 MB/s\u001b[0m eta \u001b[36m0:00:01\u001b[0m\r\u001b[2K   \u001b[90m━━━━━━━━━━━━━━━━━━━━━━━━━━━━━━━━━━━━━━━━\u001b[0m \u001b[32m491.5/491.5 kB\u001b[0m \u001b[31m9.4 MB/s\u001b[0m eta \u001b[36m0:00:00\u001b[0m\n",
            "\u001b[?25h\u001b[?25l   \u001b[90m━━━━━━━━━━━━━━━━━━━━━━━━━━━━━━━━━━━━━━━━\u001b[0m \u001b[32m0.0/193.6 kB\u001b[0m \u001b[31m?\u001b[0m eta \u001b[36m-:--:--\u001b[0m\r\u001b[2K   \u001b[90m━━━━━━━━━━━━━━━━━━━━━━━━━━━━━━━━━━━━━━━━\u001b[0m \u001b[32m193.6/193.6 kB\u001b[0m \u001b[31m14.8 MB/s\u001b[0m eta \u001b[36m0:00:00\u001b[0m\n",
            "\u001b[?25h\u001b[31mERROR: pip's dependency resolver does not currently take into account all the packages that are installed. This behaviour is the source of the following dependency conflicts.\n",
            "gcsfs 2025.3.2 requires fsspec==2025.3.2, but you have fsspec 2025.3.0 which is incompatible.\n",
            "torch 2.6.0+cu124 requires nvidia-cublas-cu12==12.4.5.8; platform_system == \"Linux\" and platform_machine == \"x86_64\", but you have nvidia-cublas-cu12 12.5.3.2 which is incompatible.\n",
            "torch 2.6.0+cu124 requires nvidia-cuda-cupti-cu12==12.4.127; platform_system == \"Linux\" and platform_machine == \"x86_64\", but you have nvidia-cuda-cupti-cu12 12.5.82 which is incompatible.\n",
            "torch 2.6.0+cu124 requires nvidia-cuda-nvrtc-cu12==12.4.127; platform_system == \"Linux\" and platform_machine == \"x86_64\", but you have nvidia-cuda-nvrtc-cu12 12.5.82 which is incompatible.\n",
            "torch 2.6.0+cu124 requires nvidia-cuda-runtime-cu12==12.4.127; platform_system == \"Linux\" and platform_machine == \"x86_64\", but you have nvidia-cuda-runtime-cu12 12.5.82 which is incompatible.\n",
            "torch 2.6.0+cu124 requires nvidia-cudnn-cu12==9.1.0.70; platform_system == \"Linux\" and platform_machine == \"x86_64\", but you have nvidia-cudnn-cu12 9.3.0.75 which is incompatible.\n",
            "torch 2.6.0+cu124 requires nvidia-cufft-cu12==11.2.1.3; platform_system == \"Linux\" and platform_machine == \"x86_64\", but you have nvidia-cufft-cu12 11.2.3.61 which is incompatible.\n",
            "torch 2.6.0+cu124 requires nvidia-curand-cu12==10.3.5.147; platform_system == \"Linux\" and platform_machine == \"x86_64\", but you have nvidia-curand-cu12 10.3.6.82 which is incompatible.\n",
            "torch 2.6.0+cu124 requires nvidia-cusolver-cu12==11.6.1.9; platform_system == \"Linux\" and platform_machine == \"x86_64\", but you have nvidia-cusolver-cu12 11.6.3.83 which is incompatible.\n",
            "torch 2.6.0+cu124 requires nvidia-cusparse-cu12==12.3.1.170; platform_system == \"Linux\" and platform_machine == \"x86_64\", but you have nvidia-cusparse-cu12 12.5.1.3 which is incompatible.\n",
            "torch 2.6.0+cu124 requires nvidia-nvjitlink-cu12==12.4.127; platform_system == \"Linux\" and platform_machine == \"x86_64\", but you have nvidia-nvjitlink-cu12 12.5.82 which is incompatible.\u001b[0m\u001b[31m\n",
            "\u001b[0m"
          ]
        }
      ]
    },
    {
      "cell_type": "code",
      "source": [
        "from datasets import load_dataset, Dataset, Value\n",
        "\n",
        "# Load both splits\n",
        "fpb_50agree = load_dataset(\"takala/financial_phrasebank\", \"sentences_50agree\", trust_remote_code=True)[\"train\"]\n",
        "\n",
        "hardest_sentences = [\n",
        "    \"The corresponding share capital increase , EUR 1,012,945.50 was entered in the Trade Register today .\",\n",
        "    \"The category was marked by maturity and the recession .\",\n",
        "    \"The annual Thesis contest is aimed to enhance the thesis quality and to strengthen the thesis culture in polytechnics .\",\n",
        "    \"A state program has been worked out , legal provisions have been developed , and rules and normative documents have been specified for the functioning of a technological park .\",\n",
        "    \"This is due to the postponement of the decision-making of projects in the negotiation phase from the earlier estimation .\",\n",
        "    \"The order consists of capacity expansion , maintenance services and new charging functionality , the company said .\",\n",
        "    \"The bank also expects additional costs , related to the Dash 8 - Q400 jets , which the group shelved in October 2007 .\",\n",
        "    \"The construction project is scheduled to start in the second quarter of 2009 and the new building is scheduled to be in place by the end of 2010 .\",\n",
        "    \"The Finnish company previously said its operating result will be lower than the break-even posted a year earlier .\",\n",
        "    \"Poyry is a global expert in consulting and engineering .\",\n",
        "    \"Body The credit falls due February 24 , 2014 .\",\n",
        "    \"The implementation of the deal is subject to the approval by the Finnish Competition Authority .\",\n",
        "    \"The adjustment measures will be carried out in phases to secure the delivery capability .\",\n",
        "    \"The right margin will be viewed separately in detail with every customer .\",\n",
        "    \"After that the two companies sat down and sewed up the present deal .\",\n",
        "    \"It also has potential clients in the growing environmental and recycling technology sectors .\",\n",
        "    \"Public services will also be available .\",\n",
        "    \"The world of glass is coming to Egypt and we invite Visitors from all around the world to attend Glass World Exhibition 2009 , Register Now at www.glassworldex.com\",\n",
        "    \"The use case dramatically narrows if you go only with the hot s Ltd.\",\n",
        "    \"Estimations indicate that even up to 170 different tablet computers or reading devices will be available in 2011 .\"\n",
        "]\n",
        "\n",
        "# Filter original 50agree for rows with those sentences\n",
        "filtered_rows = [row for row in fpb_50agree if row['sentence'] in hardest_sentences]\n",
        "\n",
        "# Create new HuggingFace Dataset\n",
        "diff_dataset = Dataset.from_list(filtered_rows)\n",
        "diff_dataset   = diff_dataset.cast_column(\"label\", Value(\"string\"))\n",
        "\n",
        "print(f\"Total unique sentences: {len(diff_dataset)}\")"
      ],
      "metadata": {
        "colab": {
          "base_uri": "https://localhost:8080/",
          "height": 322,
          "referenced_widgets": [
            "ef927e6a7baf4beeaa17fc1e79103c7a",
            "76e9cd5df5e94767927c2a889655daef",
            "82cd3760b1d14cd1a2af0b93d7c8e46d",
            "407c49737cb34a6097ee5ee3d43f51b1",
            "2c20646a20b5418d8447eb9c090c9509",
            "959f61fae554481986337cdb260d0cc4",
            "d59e57ca0cd84f39a70492f8c6e97408",
            "ef08c679f3764788a79f49169819908b",
            "9286bee7b1394525aed1f67b6ea21e16",
            "3648f6e358ed45b3af0d29e8a02cd973",
            "658a5d64fcf04405b59a5a40497c1d04",
            "2f04736e543d4c158ed430ec1e28533c",
            "0e905e1bb9694e8588f7ea4b630f315e",
            "59aec6af1c7f4d4ba80a0fb389bb763d",
            "ea95b24afc414fac96afaf88db816cc7",
            "a03c9a83a1814929b0419ea23777c4d6",
            "3684a0975a8a41adb9fd24571ecbe2ce",
            "0d31ba42395c46d784e17d7bf64b0921",
            "7eb6434b11ce4285829def5dbea19ab4",
            "f12ab632ed74448b91a53bc217ceeabc",
            "1719d6cb6d7a40fbbc98f972bbee5fbf",
            "0a0fd6e7857b40338d8ee862b70eb269",
            "80da0ede87eb439a89962dbcd2d5a622",
            "e3b7da8f273c480daca6e4ad4ff20141",
            "9a8c5145a6ca492a93d5751a89625b87",
            "4bf41fad8add45169252e71b3ec0813f",
            "8b6f9a42eee94bd2a9cb07d2e075ea1e",
            "53bbee385ac1444d97ddfd99c8de557e",
            "f2b5ec593fcd45b6b15d3ce6246d97a3",
            "c012026d88614503a8e6e5448e6bc8be",
            "56a8ee14feac48efbc5bc3c76bc5918b",
            "3bd8f7cfce4a475185dbdf0c0c7c2099",
            "c32bf4db8ecb4ceca694473393651c37",
            "c5b6a7dc207f41a89be1e043ccc4d1ce",
            "5f7adda7248f4f98b3022a0bf3820cf4",
            "90c6f4e5d31c4bc5a5cc7ca7c53d1656",
            "4f71e1264649434c90f74c6a547371f8",
            "f9e6d663803642da97399da1c634d9c9",
            "6bd236a4286c4187b4582c657297133b",
            "5da83783914a43ddb5929389c98aea22",
            "19eed3af99944139b1b6ee2c42c0bc27",
            "37267acb4b2a4a7f95bab8b1e876b909",
            "23966fbb5bf649c1a9fe7e3b7f3fc648",
            "53fc7f4177334f6aba975b2fb2f59c1e",
            "6bd4877fb13247ac9fce86b24c2292ba",
            "43d2b9f0fd8f4de2b402c32da9fcb320",
            "51f888bc86e0494bb39fcdf41e534004",
            "f3d20c2a962645e6b97c8dcb22c44bc1",
            "911f186c88a74413adfcb344c4b6c4ba",
            "a13cf2e711c4408187eafad6d042e3c3",
            "669d8ad03918477e9528276e2ec45f3a",
            "e01a8c01b0984a82bdf2058a96f0a6e7",
            "79eb255e28fc420f8e0b3dd03ac4f14c",
            "f8a186156f8e447db005a2c2d9bc01c6",
            "1d34a67006d540a787fb181f99ddea10"
          ]
        },
        "id": "S8U1qM94F-rL",
        "outputId": "f219c283-2ad8-493c-aaa5-c87cdf214927"
      },
      "execution_count": null,
      "outputs": [
        {
          "output_type": "stream",
          "name": "stderr",
          "text": [
            "/usr/local/lib/python3.11/dist-packages/huggingface_hub/utils/_auth.py:94: UserWarning: \n",
            "The secret `HF_TOKEN` does not exist in your Colab secrets.\n",
            "To authenticate with the Hugging Face Hub, create a token in your settings tab (https://huggingface.co/settings/tokens), set it as secret in your Google Colab and restart your session.\n",
            "You will be able to reuse this secret in all of your notebooks.\n",
            "Please note that authentication is recommended but still optional to access public models or datasets.\n",
            "  warnings.warn(\n"
          ]
        },
        {
          "output_type": "display_data",
          "data": {
            "text/plain": [
              "README.md:   0%|          | 0.00/8.88k [00:00<?, ?B/s]"
            ],
            "application/vnd.jupyter.widget-view+json": {
              "version_major": 2,
              "version_minor": 0,
              "model_id": "ef927e6a7baf4beeaa17fc1e79103c7a"
            }
          },
          "metadata": {}
        },
        {
          "output_type": "display_data",
          "data": {
            "text/plain": [
              "financial_phrasebank.py:   0%|          | 0.00/6.04k [00:00<?, ?B/s]"
            ],
            "application/vnd.jupyter.widget-view+json": {
              "version_major": 2,
              "version_minor": 0,
              "model_id": "2f04736e543d4c158ed430ec1e28533c"
            }
          },
          "metadata": {}
        },
        {
          "output_type": "display_data",
          "data": {
            "text/plain": [
              "FinancialPhraseBank-v1.0.zip:   0%|          | 0.00/682k [00:00<?, ?B/s]"
            ],
            "application/vnd.jupyter.widget-view+json": {
              "version_major": 2,
              "version_minor": 0,
              "model_id": "80da0ede87eb439a89962dbcd2d5a622"
            }
          },
          "metadata": {}
        },
        {
          "output_type": "display_data",
          "data": {
            "text/plain": [
              "Generating train split:   0%|          | 0/4846 [00:00<?, ? examples/s]"
            ],
            "application/vnd.jupyter.widget-view+json": {
              "version_major": 2,
              "version_minor": 0,
              "model_id": "c5b6a7dc207f41a89be1e043ccc4d1ce"
            }
          },
          "metadata": {}
        },
        {
          "output_type": "display_data",
          "data": {
            "text/plain": [
              "Casting the dataset:   0%|          | 0/20 [00:00<?, ? examples/s]"
            ],
            "application/vnd.jupyter.widget-view+json": {
              "version_major": 2,
              "version_minor": 0,
              "model_id": "6bd4877fb13247ac9fce86b24c2292ba"
            }
          },
          "metadata": {}
        },
        {
          "output_type": "stream",
          "name": "stdout",
          "text": [
            "Total unique sentences: 20\n"
          ]
        }
      ]
    },
    {
      "cell_type": "code",
      "source": [
        "# Graph state\n",
        "class State(TypedDict):\n",
        "    phrase: str\n",
        "    sentiment: str\n",
        "    improved_sentiment: str\n",
        "    final_sentiment: str\n",
        "\n",
        "# Nodes\n",
        "def get_sentiment(state: State):\n",
        "\n",
        "\n",
        "    msg = llm.invoke(f\"What is the sentiment of the news headline?\\n\\n\"\n",
        "                  f\"{state['phrase']}\\n\\n\"\n",
        "                  \"OUTPUT ONE OF THREE LABELS: 'Positive'/'Neutral'/'Negative'\")\n",
        "    return {\"sentiment\": msg.content}\n",
        "\n",
        "# Build workflow\n",
        "workflow = StateGraph(State)\n",
        "\n",
        "# Add nodes\n",
        "workflow.add_node(\"get_sentiment\", get_sentiment)\n",
        "\n",
        "workflow.add_edge(START, \"get_sentiment\")\n",
        "\n",
        "# Compile\n",
        "chain = workflow.compile()\n",
        "\n",
        "# Show workflow\n",
        "display(Image(chain.get_graph().draw_mermaid_png()))"
      ],
      "metadata": {
        "colab": {
          "base_uri": "https://localhost:8080/",
          "height": 251
        },
        "id": "lca_WYPLGDfo",
        "outputId": "6602c8bf-3d0e-44e9-fa5d-0c0dccbdf47f"
      },
      "execution_count": null,
      "outputs": [
        {
          "output_type": "display_data",
          "data": {
            "image/png": "[encoded data removed]",
            "text/plain": [
              "<IPython.core.display.Image object>"
            ]
          },
          "metadata": {}
        }
      ]
    },
    {
      "cell_type": "code",
      "source": [],
      "metadata": {
        "id": "jTwg1n8lF-n2"
      },
      "execution_count": null,
      "outputs": []
    },
    {
      "cell_type": "code",
      "source": [],
      "metadata": {
        "id": "SZmRMNjoFwfr"
      },
      "execution_count": null,
      "outputs": []
    },
    {
      "cell_type": "code",
      "source": [
        "\n",
        "\n",
        "\n",
        "\n",
        "\n",
        "def improve_joke(state: State):\n",
        "    \"\"\"Second LLM call to improve the joke\"\"\"\n",
        "\n",
        "    msg = llm.invoke(f\"Make this joke funnier by adding wordplay: {state['joke']}\")\n",
        "    return {\"improved_joke\": msg.content}\n",
        "\n",
        "\n",
        "def polish_joke(state: State):\n",
        "    \"\"\"Third LLM call for final polish\"\"\"\n",
        "\n",
        "    msg = llm.invoke(f\"Add a surprising twist to this joke: {state['improved_joke']}\")\n",
        "    return {\"final_joke\": msg.content}"
      ],
      "metadata": {
        "id": "e6hGResfn8dL"
      },
      "execution_count": null,
      "outputs": []
    },
    {
      "cell_type": "code",
      "source": [
        "\n",
        "\n",
        "# Add nodes\n",
        "workflow.add_node(\"generate_joke\", generate_joke)\n",
        "workflow.add_node(\"improve_joke\", improve_joke)\n",
        "workflow.add_node(\"polish_joke\", polish_joke)\n",
        "\n",
        "# Add edges to connect nodes\n",
        "workflow.add_edge(START, \"generate_joke\")\n",
        "workflow.add_conditional_edges(\n",
        "    \"generate_joke\", check_punchline, {\"Fail\": \"improve_joke\", \"Pass\": END}\n",
        ")\n",
        "workflow.add_edge(\"improve_joke\", \"polish_joke\")\n",
        "workflow.add_edge(\"polish_joke\", END)\n",
        "\n",
        "# Compile\n",
        "chain = workflow.compile()\n",
        "\n",
        "# Show workflow\n",
        "display(Image(chain.get_graph().draw_mermaid_png()))\n",
        "\n",
        "# Invoke\n",
        "state = chain.invoke({\"topic\": \"cats\"})\n",
        "print(\"Initial joke:\")\n",
        "print(state[\"joke\"])\n",
        "print(\"\\n--- --- ---\\n\")\n",
        "if \"improved_joke\" in state:\n",
        "    print(\"Improved joke:\")\n",
        "    print(state[\"improved_joke\"])\n",
        "    print(\"\\n--- --- ---\\n\")\n",
        "\n",
        "    print(\"Final joke:\")\n",
        "    print(state[\"final_joke\"])\n",
        "else:\n",
        "    print(\"Joke failed quality gate - no punchline detected!\")"
      ],
      "metadata": {
        "id": "mh4gaO3gaJsN"
      },
      "execution_count": null,
      "outputs": []
    },
    {
      "cell_type": "code",
      "source": [],
      "metadata": {
        "id": "DH8lagSCaJo2"
      },
      "execution_count": null,
      "outputs": []
    },
    {
      "cell_type": "markdown",
      "source": [
        "# Parallelization\n",
        "![parr](https://langchain-ai.github.io/langgraph/tutorials/workflows/img/parallelization.png)\n"
      ],
      "metadata": {
        "id": "17RetWTiUAI9"
      }
    },
    {
      "cell_type": "markdown",
      "source": [
        "## Basic Example"
      ],
      "metadata": {
        "id": "nVyLj-jNmi9v"
      }
    },
    {
      "cell_type": "code",
      "source": [
        "# Graph state\n",
        "class State(TypedDict):\n",
        "    topic: str\n",
        "    joke: str\n",
        "    story: str\n",
        "    poem: str\n",
        "    combined_output: str\n",
        "\n",
        "\n",
        "# Nodes\n",
        "def call_llm_1(state: State):\n",
        "    \"\"\"First LLM call to generate initial joke\"\"\"\n",
        "\n",
        "    msg = llm.invoke(f\"Write a joke about {state['topic']}\")\n",
        "    return {\"joke\": msg.content}\n",
        "\n",
        "\n",
        "def call_llm_2(state: State):\n",
        "    \"\"\"Second LLM call to generate story\"\"\"\n",
        "\n",
        "    msg = llm.invoke(f\"Write a story about {state['topic']}\")\n",
        "    return {\"story\": msg.content}\n",
        "\n",
        "\n",
        "def call_llm_3(state: State):\n",
        "    \"\"\"Third LLM call to generate poem\"\"\"\n",
        "\n",
        "    msg = llm.invoke(f\"Write a poem about {state['topic']}\")\n",
        "    return {\"poem\": msg.content}\n",
        "\n",
        "\n",
        "def aggregator(state: State):\n",
        "    \"\"\"Combine the joke and story into a single output\"\"\"\n",
        "\n",
        "    combined = f\"Here's a story, joke, and poem about {state['topic']}!\\n\\n\"\n",
        "    combined += f\"STORY:\\n{state['story']}\\n\\n\"\n",
        "    combined += f\"JOKE:\\n{state['joke']}\\n\\n\"\n",
        "    combined += f\"POEM:\\n{state['poem']}\"\n",
        "    return {\"combined_output\": combined}\n",
        "\n",
        "\n",
        "# Build workflow\n",
        "parallel_builder = StateGraph(State)\n",
        "\n",
        "# Add nodes\n",
        "parallel_builder.add_node(\"call_llm_1\", call_llm_1)\n",
        "parallel_builder.add_node(\"call_llm_2\", call_llm_2)\n",
        "parallel_builder.add_node(\"call_llm_3\", call_llm_3)\n",
        "parallel_builder.add_node(\"aggregator\", aggregator)\n",
        "\n",
        "# Add edges to connect nodes\n",
        "parallel_builder.add_edge(START, \"call_llm_1\")\n",
        "parallel_builder.add_edge(START, \"call_llm_2\")\n",
        "parallel_builder.add_edge(START, \"call_llm_3\")\n",
        "parallel_builder.add_edge(\"call_llm_1\", \"aggregator\")\n",
        "parallel_builder.add_edge(\"call_llm_2\", \"aggregator\")\n",
        "parallel_builder.add_edge(\"call_llm_3\", \"aggregator\")\n",
        "parallel_builder.add_edge(\"aggregator\", END)\n",
        "parallel_workflow = parallel_builder.compile()\n",
        "\n",
        "# Show workflow\n",
        "display(Image(parallel_workflow.get_graph().draw_mermaid_png()))\n",
        "\n",
        "# Invoke\n",
        "state = parallel_workflow.invoke({\"topic\": \"cats\"})\n",
        "print(state[\"combined_output\"])"
      ],
      "metadata": {
        "id": "_GnKb7zkUAFc",
        "colab": {
          "base_uri": "https://localhost:8080/",
          "height": 1000
        },
        "outputId": "bbe88f4a-ede7-4e8a-bc91-5e43d62a459e"
      },
      "execution_count": null,
      "outputs": [
        {
          "output_type": "display_data",
          "data": {
            "image/png": "[encoded data removed]",
            "text/plain": [
              "<IPython.core.display.Image object>"
            ]
          },
          "metadata": {}
        },
        {
          "output_type": "stream",
          "name": "stdout",
          "text": [
            "Here's a story, joke, and poem about cats!\n",
            "\n",
            "STORY:\n",
            "In a cozy little house on a quiet street, a family of cats lived together in perfect harmony. There was Whiskers, the wise and aged matriarch, who ruled the roost with a gentle paw. Her mate, Fluffy, was a rugged and handsome tom who spent his days lounging in the sunbeams that streamed through the windows.\n",
            "\n",
            "Their three kittens, Mittens, Patches, and Snowball, were always getting into mischief. They would chase each other around the house, pouncing on invisible prey and sending pillows and blankets flying. Whiskers and Fluffy would watch them with amusement, knowing that they were just going through the natural stages of feline development.\n",
            "\n",
            "One day, a stray cat named Midnight wandered into the neighborhood. She was a sleek and mysterious cat with piercing green eyes and a mottled black coat. Whiskers immediately sensed that Midnight was different, and she welcomed her into the family with a warm purr and a soft head butt.\n",
            "\n",
            "Midnight quickly became a part of the family, and the kittens adored her. She taught them all about the art of hunting, showing them how to stalk their prey and pounce with precision. Whiskers and Fluffy were impressed by Midnight's skills, and they knew that she would be a valuable addition to their little family.\n",
            "\n",
            "As the days turned into weeks, the cats grew closer and closer. They would curl up together on the couch, purring contentedly as they basked in the warmth of the sun. Whiskers would tell stories of her adventures in the great outdoors, while Fluffy would regale them with tales of his bravery in the face of fierce storms.\n",
            "\n",
            "The kittens would watch with wide eyes, their tails twitching with excitement. They loved hearing about their parents' exploits, and they knew that one day they would have their own adventures to share.\n",
            "\n",
            "As the seasons changed, the cats grew older and wiser. Whiskers and Fluffy continued to rule the roost, while Midnight remained a loyal and trusted member of the family. The kittens grew into beautiful cats, with shiny coats and sparkling eyes. They would often sit together, reminiscing about their childhood escapades and the many happy memories they had shared.\n",
            "\n",
            "And so, the family of cats lived on, a symbol of love, loyalty, and the unbreakable bonds that tied them together. They knew that as long as they had each other, they could face anything that came their way, and they would always be happy and content in their cozy little home.\n",
            "\n",
            "JOKE:\n",
            "Why did the cat join a band?\n",
            "\n",
            "Because it wanted to be the purr-cussionist!\n",
            "\n",
            "POEM:\n",
            "Whiskers twitch, ears perk high\n",
            "Furry forms, eyes that catch the eye\n",
            "They prowl and creep, silent as can be\n",
            "Masters of stealth, wild and carefree\n",
            "\n",
            "Their coats, a kaleidoscope of hue\n",
            "From snowy white to midnight blue\n",
            "Their purrs, a soothing melody sweet\n",
            "As they curl up, their tails to greet\n",
            "\n",
            "Their claws, sharp razors, sharp as can be\n",
            "For climbing walls, or scratching trees\n",
            "Their playful pounces, full of glee\n",
            "As they chase toys, wild and free\n",
            "\n",
            "Their snuggles, warm and cozy tight\n",
            "As they curl up, through day and night\n",
            "Their little noses, twitching fast\n",
            "As they sniff and explore, and taste\n",
            "\n",
            "Oh, cats, oh cats, with eyes so bright\n",
            "You rule the roost, with all your might\n",
            "You bring us joy, with every purr\n",
            "And fill our hearts, with love and fur\n",
            "\n",
            "So here's to you, dear feline friends\n",
            "May your whiskers always twitch and bend\n",
            "May your purrs be loud, and your snuggles tight\n",
            "And may your presence, be a warm delight.\n"
          ]
        }
      ]
    },
    {
      "cell_type": "markdown",
      "source": [
        "## Exercise: Apply self consistency to improve sentiment classification"
      ],
      "metadata": {
        "id": "EDrGUa1ymlGe"
      }
    },
    {
      "cell_type": "markdown",
      "source": [
        "# Routing\n",
        "![routing](https://langchain-ai.github.io/langgraph/tutorials/workflows/img/routing.png)"
      ],
      "metadata": {
        "id": "4UL6m_X3RKZR"
      }
    },
    {
      "cell_type": "markdown",
      "source": [
        "## Basic Example"
      ],
      "metadata": {
        "id": "9IQ8e44Hm0jk"
      }
    },
    {
      "cell_type": "code",
      "source": [
        "from typing_extensions import Literal\n",
        "from langchain_core.messages import HumanMessage, SystemMessage\n",
        "\n",
        "\n",
        "# Schema for structured output to use as routing logic\n",
        "class Route(BaseModel):\n",
        "    step: Literal[\"poem\", \"story\", \"joke\"] = Field(\n",
        "        None, description=\"The next step in the routing process\"\n",
        "    )\n",
        "\n",
        "\n",
        "# Augment the LLM with schema for structured output\n",
        "router = llm.with_structured_output(Route)\n",
        "\n",
        "\n",
        "# State\n",
        "class State(TypedDict):\n",
        "    input: str\n",
        "    decision: str\n",
        "    output: str\n",
        "\n",
        "\n",
        "# Nodes\n",
        "def llm_call_1(state: State):\n",
        "    \"\"\"Write a story\"\"\"\n",
        "\n",
        "    result = llm.invoke(state[\"input\"])\n",
        "    return {\"output\": result.content}\n",
        "\n",
        "\n",
        "def llm_call_2(state: State):\n",
        "    \"\"\"Write a joke\"\"\"\n",
        "\n",
        "    result = llm.invoke(state[\"input\"])\n",
        "    return {\"output\": result.content}\n",
        "\n",
        "\n",
        "def llm_call_3(state: State):\n",
        "    \"\"\"Write a poem\"\"\"\n",
        "\n",
        "    result = llm.invoke(state[\"input\"])\n",
        "    return {\"output\": result.content}\n",
        "\n",
        "\n",
        "def llm_call_router(state: State):\n",
        "    \"\"\"Route the input to the appropriate node\"\"\"\n",
        "\n",
        "    # Run the augmented LLM with structured output to serve as routing logic\n",
        "    decision = router.invoke(\n",
        "        [\n",
        "            SystemMessage(\n",
        "                content=\"Route the input to story, joke, or poem based on the user's request.\"\n",
        "            ),\n",
        "            HumanMessage(content=state[\"input\"]),\n",
        "        ]\n",
        "    )\n",
        "\n",
        "    return {\"decision\": decision.step}\n",
        "\n",
        "\n",
        "# Conditional edge function to route to the appropriate node\n",
        "def route_decision(state: State):\n",
        "    # Return the node name you want to visit next\n",
        "    if state[\"decision\"] == \"story\":\n",
        "        return \"llm_call_1\"\n",
        "    elif state[\"decision\"] == \"joke\":\n",
        "        return \"llm_call_2\"\n",
        "    elif state[\"decision\"] == \"poem\":\n",
        "        return \"llm_call_3\"\n",
        "\n",
        "\n",
        "# Build workflow\n",
        "router_builder = StateGraph(State)\n",
        "\n",
        "# Add nodes\n",
        "router_builder.add_node(\"llm_call_1\", llm_call_1)\n",
        "router_builder.add_node(\"llm_call_2\", llm_call_2)\n",
        "router_builder.add_node(\"llm_call_3\", llm_call_3)\n",
        "router_builder.add_node(\"llm_call_router\", llm_call_router)\n",
        "\n",
        "# Add edges to connect nodes\n",
        "router_builder.add_edge(START, \"llm_call_router\")\n",
        "router_builder.add_conditional_edges(\n",
        "    \"llm_call_router\",\n",
        "    route_decision,\n",
        "    {  # Name returned by route_decision : Name of next node to visit\n",
        "        \"llm_call_1\": \"llm_call_1\",\n",
        "        \"llm_call_2\": \"llm_call_2\",\n",
        "        \"llm_call_3\": \"llm_call_3\",\n",
        "    },\n",
        ")\n",
        "router_builder.add_edge(\"llm_call_1\", END)\n",
        "router_builder.add_edge(\"llm_call_2\", END)\n",
        "router_builder.add_edge(\"llm_call_3\", END)\n",
        "\n",
        "# Compile workflow\n",
        "router_workflow = router_builder.compile()\n",
        "\n",
        "# Show the workflow\n",
        "display(Image(router_workflow.get_graph().draw_mermaid_png()))\n",
        "\n",
        "# Invoke\n",
        "state = router_workflow.invoke({\"input\": \"Write me a short joke about cats\"})\n",
        "print(state[\"output\"])"
      ],
      "metadata": {
        "id": "iuJxEZwRRKVZ",
        "colab": {
          "base_uri": "https://localhost:8080/",
          "height": 404
        },
        "outputId": "2f87aa38-02e8-40c8-95ce-5fc8e04b050a"
      },
      "execution_count": null,
      "outputs": [
        {
          "output_type": "display_data",
          "data": {
            "image/png": "[encoded data removed]",
            "text/plain": [
              "<IPython.core.display.Image object>"
            ]
          },
          "metadata": {}
        },
        {
          "output_type": "stream",
          "name": "stdout",
          "text": [
            "Why did the cat join a band?\n",
            "\n",
            "Because it wanted to be the purr-cussionist!\n"
          ]
        }
      ]
    },
    {
      "cell_type": "markdown",
      "source": [
        "## Exercise: build a router to route harder questions to a larger/reasoning llm"
      ],
      "metadata": {
        "id": "ANBpNWcX6mAS"
      }
    },
    {
      "cell_type": "markdown",
      "source": [
        "# Orchestrator-Worker\n",
        "![pic](https://langchain-ai.github.io/langgraph/tutorials/workflows/img/worker.png)"
      ],
      "metadata": {
        "id": "4lcVCWwYnAxD"
      }
    },
    {
      "cell_type": "code",
      "source": [
        "from typing import Annotated, List\n",
        "import operator\n",
        "\n",
        "\n",
        "# Schema for structured output to use in planning\n",
        "class Section(BaseModel):\n",
        "    name: str = Field(\n",
        "        description=\"Name for this section of the report.\",\n",
        "    )\n",
        "    description: str = Field(\n",
        "        description=\"Brief overview of the main topics and concepts to be covered in this section.\",\n",
        "    )\n",
        "\n",
        "\n",
        "class Sections(BaseModel):\n",
        "    sections: List[Section] = Field(\n",
        "        description=\"Sections of the report.\",\n",
        "    )\n",
        "\n",
        "\n",
        "# Augment the LLM with schema for structured output\n",
        "planner = llm.with_structured_output(Sections)"
      ],
      "metadata": {
        "id": "LeuOsqdfRwsz"
      },
      "execution_count": null,
      "outputs": []
    },
    {
      "cell_type": "code",
      "source": [
        "from langgraph.constants import Send\n",
        "\n",
        "\n",
        "# Graph state\n",
        "class State(TypedDict):\n",
        "    topic: str  # Report topic\n",
        "    sections: list[Section]  # List of report sections\n",
        "    completed_sections: Annotated[\n",
        "        list, operator.add\n",
        "    ]  # All workers write to this key in parallel\n",
        "    final_report: str  # Final report\n",
        "\n",
        "\n",
        "# Worker state\n",
        "class WorkerState(TypedDict):\n",
        "    section: Section\n",
        "    completed_sections: Annotated[list, operator.add]\n",
        "\n",
        "\n",
        "# Nodes\n",
        "def orchestrator(state: State):\n",
        "    \"\"\"Orchestrator that generates a plan for the report\"\"\"\n",
        "\n",
        "    # Generate queries\n",
        "    report_sections = planner.invoke(\n",
        "        [\n",
        "            SystemMessage(content=\"Generate a plan for the report.\"),\n",
        "            HumanMessage(content=f\"Here is the report topic: {state['topic']}\"),\n",
        "        ]\n",
        "    )\n",
        "\n",
        "    return {\"sections\": report_sections.sections}\n",
        "\n",
        "\n",
        "def llm_call(state: WorkerState):\n",
        "    \"\"\"Worker writes a section of the report\"\"\"\n",
        "\n",
        "    # Generate section\n",
        "    section = llm.invoke(\n",
        "        [\n",
        "            SystemMessage(\n",
        "                content=\"Write a report section following the provided name and description. Include no preamble for each section. Use markdown formatting.\"\n",
        "            ),\n",
        "            HumanMessage(\n",
        "                content=f\"Here is the section name: {state['section'].name} and description: {state['section'].description}\"\n",
        "            ),\n",
        "        ]\n",
        "    )\n",
        "\n",
        "    # Write the updated section to completed sections\n",
        "    return {\"completed_sections\": [section.content]}\n",
        "\n",
        "\n",
        "def synthesizer(state: State):\n",
        "    \"\"\"Synthesize full report from sections\"\"\"\n",
        "\n",
        "    # List of completed sections\n",
        "    completed_sections = state[\"completed_sections\"]\n",
        "\n",
        "    # Format completed section to str to use as context for final sections\n",
        "    completed_report_sections = \"\\n\\n---\\n\\n\".join(completed_sections)\n",
        "\n",
        "    return {\"final_report\": completed_report_sections}\n",
        "\n",
        "\n",
        "# Conditional edge function to create llm_call workers that each write a section of the report\n",
        "def assign_workers(state: State):\n",
        "    \"\"\"Assign a worker to each section in the plan\"\"\"\n",
        "\n",
        "    # Kick off section writing in parallel via Send() API\n",
        "    return [Send(\"llm_call\", {\"section\": s}) for s in state[\"sections\"]]\n",
        "\n",
        "\n",
        "# Build workflow\n",
        "orchestrator_worker_builder = StateGraph(State)\n",
        "\n",
        "# Add the nodes\n",
        "orchestrator_worker_builder.add_node(\"orchestrator\", orchestrator)\n",
        "orchestrator_worker_builder.add_node(\"llm_call\", llm_call)\n",
        "orchestrator_worker_builder.add_node(\"synthesizer\", synthesizer)\n",
        "\n",
        "# Add edges to connect nodes\n",
        "orchestrator_worker_builder.add_edge(START, \"orchestrator\")\n",
        "orchestrator_worker_builder.add_conditional_edges(\n",
        "    \"orchestrator\", assign_workers, [\"llm_call\"]\n",
        ")\n",
        "orchestrator_worker_builder.add_edge(\"llm_call\", \"synthesizer\")\n",
        "orchestrator_worker_builder.add_edge(\"synthesizer\", END)\n",
        "\n",
        "# Compile the workflow\n",
        "orchestrator_worker = orchestrator_worker_builder.compile()\n",
        "\n",
        "# Show the workflow\n",
        "display(Image(orchestrator_worker.get_graph().draw_mermaid_png()))\n",
        "\n",
        "# Invoke\n",
        "state = orchestrator_worker.invoke({\"topic\": \"Create a report on the 12 rules of life summary\"})\n",
        "\n",
        "from IPython.display import Markdown\n",
        "Markdown(state[\"final_report\"])"
      ],
      "metadata": {
        "id": "iv-3paxRnIth",
        "colab": {
          "base_uri": "https://localhost:8080/",
          "height": 1000
        },
        "outputId": "60dc7d32-a90e-4783-d494-89ae73af23a0"
      },
      "execution_count": null,
      "outputs": [
        {
          "output_type": "display_data",
          "data": {
            "image/png": "[encoded data removed]",
            "text/plain": [
              "<IPython.core.display.Image object>"
            ]
          },
          "metadata": {}
        },
        {
          "output_type": "execute_result",
          "data": {
            "text/plain": [
              "<IPython.core.display.Markdown object>"
            ],
            "text/markdown": "**Introduction and Description: Summary of the Book's Main Theme and Purpose**\n============================================================\n\nThe book, titled \"The Power of Now\", delves into the concept of mindfulness and living in the present moment. The author, Eckhart Tolle, explores the idea that people often live in a state of constant distraction and worry about the past or future, missing out on the beauty and simplicity of the present moment. The main theme of the book is the importance of being present and mindful in order to find inner peace and happiness.\n\nThe author argues that most people live in a state of unconsciousness, driven by their thoughts and emotions, and that this state is the root of many problems in life, including stress, anxiety, and depression. He proposes that by becoming more aware of the present moment, individuals can break free from this cycle of negativity and find a sense of inner peace and fulfillment.\n\nThroughout the book, Tolle draws upon his own experiences with depression and anxiety, as well as insights from spirituality and philosophy, to illustrate the principles of living in the present moment. He also provides practical advice and exercises for readers to cultivate mindfulness and live more authentically in the present. Overall, the book aims to inspire readers to adopt a more mindful and present approach to life, and to experience the benefits of greater inner peace, happiness, and fulfillment.\n\n---\n\n### Rule 1: Make Sure You Are Standing on Your Own Two Feet\n#### Summary and Importance\n\nStanding on your own two feet is the foundation of independence and self-sufficiency. This rule emphasizes the importance of taking ownership of one's actions, decisions, and consequences. It means being responsible for one's life, goals, and choices without relying on others for validation, support, or excuses.\n\nThis rule is crucial because it allows individuals to develop a sense of autonomy, self-confidence, and personal accountability. When you stand on your own two feet, you are better equipped to navigate life's challenges, overcome obstacles, and make progress towards your goals. Moreover, it fosters a growth mindset, as you are more likely to take calculated risks, learn from failures, and adapt to changing circumstances.\n\nIn practice, this rule means being proactive, self-motivated, and willing to take initiative. It involves setting clear goals, prioritizing tasks, and executing plans without relying on others to do the heavy lifting. By standing on your own two feet, you demonstrate your commitment to personal growth, resilience, and long-term success.\n\n---\n\n### Rule 2: Assume the Responsibility for Your Life\n\n\nTake control of your life, decisions, and actions. This rule is crucial as it sets the foundation for personal growth and freedom. By assuming responsibility, you acknowledge that you are the captain of your ship and the master of your destiny. This mindset shift empowers you to make conscious choices, take ownership of your mistakes, and develop a sense of accountability.\n\nConsequences of not assuming responsibility include:\n\n* Blaming others for your circumstances\n* Feeling helpless and stuck\n* Lacking direction and purpose\n* Failing to learn from mistakes\n* Missing opportunities for growth and improvement\n\nBy embracing this rule, you can:\n\n* Develop a sense of autonomy and confidence\n* Make informed decisions that align with your values and goals\n* Build resilience and adaptability\n* Cultivate a growth mindset and learn from failures\n* Take calculated risks and seize opportunities\n\n---\n\n### Rule 3: Work Hard, Be Stubborn, and Immerse Yourself in Boring Work\n\nThis third rule emphasizes the importance of dedication and perseverance in one's work. It suggests that in order to achieve success, one must be willing to put in the effort required to master their craft, even if it means facing mundane or repetitive tasks. The rule also highlights the importance of stubbornness, implying that one must be willing to stand by their decisions and convictions, even in the face of adversity.\n\nThe relevance of this rule lies in its application to various aspects of life. In the workplace, it means being willing to put in the extra hours, attend to the little details, and take on tasks that others may deem too tedious. In personal projects, it means being willing to put in the time and effort required to see them through to completion. In relationships, it means being committed to building and maintaining strong bonds with others.\n\nBy following this rule, individuals can develop a strong work ethic, build resilience, and cultivate a sense of pride and accomplishment in their endeavors. It also encourages individuals to be open-minded, flexible, and willing to learn from their mistakes, which is essential for personal and professional growth.\n\n---\n\n**Rule 4: Be Precise in Your Thoughts and Actions**\n=====================================================\n\nThis rule emphasizes the importance of accuracy and clarity in one's thoughts and actions. It is essential to be precise in all aspects of life, from communication to decision-making, as it helps to avoid misunderstandings, mistakes, and unnecessary conflicts. Precision in thoughts and actions also leads to increased efficiency, productivity, and effectiveness.\n\nBeing precise in our thoughts and actions requires discipline, focus, and attention to detail. It involves being mindful of our words, actions, and decisions, and making sure they align with our goals and values. When we are precise, we are able to communicate effectively, build trust with others, and achieve our objectives more easily.\n\nIn today's fast-paced and complex world, precision is more important than ever. With the abundance of information and distractions, it is easy to get lost or confused. By being precise in our thoughts and actions, we can stay focused, make better decisions, and achieve our goals more efficiently.\n\n---\n\n### Rule 5: Do Not Let Your Children Do Anything That Makes You Disapproving\n\nThis rule emphasizes the importance of setting clear boundaries and expectations for children's behavior. It is essential to establish what behaviors are acceptable and what are not, and to consistently enforce these rules. Parents should not allow their children to engage in behaviors that they disapprove of, as this can lead to confusion, misbehavior, and a lack of respect for authority.\n\nThe significance of this rule lies in its ability to promote a sense of structure and stability in the home. When children know what is expected of them, they are more likely to behave appropriately and feel secure in their environment. Additionally, this rule helps parents to maintain their authority and sets a positive example for their children, teaching them the importance of respect and obedience.\n\nBy following this rule, parents can create a harmonious and respectful home environment, where children feel supported and guided, and are more likely to develop into responsible and well-adjusted individuals.\n\n---\n\n### Rule 6: Set Your House in Perfect Order Before You Criticize the World\n\nBefore we can effectively criticize or change the world, we must first take care of our own personal and internal affairs. This rule emphasizes the importance of self-reflection, self-improvement, and personal responsibility. It encourages us to focus on our own flaws and weaknesses before pointing out those of others.\n\nBy setting our own \"house\" in order, we are able to approach issues with a clearer and more objective mind. We are better equipped to identify and address our own biases, prejudices, and shortcomings, which in turn allows us to approach problems with a sense of humility and accountability.\n\nIn essence, this rule is a call to introspection and self-awareness. It reminds us that true change and progress can only be achieved when we first take care of our own personal \"mess\" and then work towards creating positive change in the world.\n\n---\n\n### Rule 7: Pursue What Is Meaningful (Not What Is Expedient)\n\nTo pursue what is meaningful is to prioritize actions that align with one's values and passions, rather than solely focusing on what is expedient or convenient. This rule is crucial in achieving a sense of fulfillment and purpose in life. By focusing on what is meaningful, individuals can create a sense of direction and motivation, which can lead to a more fulfilling and purpose-driven life.\n\nIn contrast, pursuing what is expedient can lead to a sense of emptiness and disconnection. When we prioritize convenience over meaning, we may achieve short-term gains, but lose sight of what truly matters in the long run. This approach can also lead to feelings of guilt, regret, and dissatisfaction, as we realize that our actions were driven by self-interest rather than a genuine desire to make a positive impact.\n\nBy embracing Rule 7, individuals can cultivate a sense of purpose and direction, and make choices that align with their values and passions. This approach requires intentionality, self-reflection, and a willingness to prioritize what is truly important. By doing so, individuals can live a more authentic, meaningful, and fulfilling life.\n\n---\n\n### Rule 8: Tell the Truth - Or, at Least, Don't Lie\n\n**Summary**\nHonesty is the foundation of any meaningful interaction. Rule 8 emphasizes the importance of truth-telling, even if it's uncomfortable or difficult. This principle is crucial in building trust, respect, and credibility with others. By being truthful, individuals demonstrate respect for themselves and others, fostering a stronger sense of community and collaboration.\n\n**Significance**\nLying can lead to the breakdown of relationships, damage to one's reputation, and erosion of trust. When individuals deceive or mislead others, it can create a culture of dishonesty, making it challenging to establish genuine connections. Conversely, a culture of truth-telling promotes transparency, accountability, and open communication, leading to more effective decision-making, improved relationships, and personal growth. By adhering to Rule 8, individuals can maintain their integrity and contribute to a more honest and trustworthy environment.\n\n---\n\n### Rule 9: Assume That the Person You Are Reading About Has Done Something You Would Never Do\nIn this chapter, we delve into the ninth rule of writing a compelling narrative, which emphasizes the importance of assuming that the person you are reading about has done something you would never do. This rule is crucial in creating a nuanced and engaging story, as it allows the reader to form a connection with the subject matter.\n\nBy adopting this perspective, writers can tap into the reader's imagination and curiosity, making the story more relatable and memorable. This approach also enables writers to explore complex themes and emotions, as they are able to consider the subject's motivations and actions from a unique and empathetic standpoint.\n\nMoreover, assuming that the person you are reading about has done something you would never do encourages writers to challenge their own biases and preconceptions. By putting themselves in the shoes of others, writers can gain a deeper understanding of human nature, fostering a more compassionate and open-minded approach to storytelling.\n\nIn conclusion, Rule 9 serves as a powerful reminder of the importance of empathy and understanding in the writing process. By assuming that the person you are reading about has done something you would never do, writers can craft stories that resonate with readers, challenge their perspectives, and ultimately leave a lasting impact.\n\n---\n\n### Rule 10: Be Precise in Your Words\n\nIt is essential to be precise in your words when writing or speaking. This rule is crucial because it helps to avoid confusion, misunderstandings, and miscommunication. Precise language ensures that your message is conveyed clearly and accurately, reducing the risk of misinterpretation.\n\n---\n\n**Rule 11: Do Not Let Your Children Do Anything That Makes You Disapproving**\n============================================================\n\nThis rule emphasizes the importance of setting clear boundaries and expectations for children's behavior. By not allowing them to engage in activities that displease or disapprove of, parents can maintain a sense of control and authority in the relationship. This rule also encourages parents to communicate their values and standards to their children, helping them develop a sense of right and wrong.\n\nThe significance of this rule lies in its ability to promote a positive and respectful parent-child dynamic. When children are aware of their parents' expectations and boundaries, they are more likely to feel secure and supported, which can lead to increased confidence and self-esteem. Additionally, this rule helps parents model healthy communication and conflict resolution skills for their children, teaching them how to navigate disagreements and disagreements in a constructive manner.\n\nBy following this rule, parents can establish a strong foundation for their relationship with their children, built on trust, respect, and open communication. This, in turn, can have a positive impact on the child's emotional and social development, as well as their ability to navigate complex social situations and relationships in the future.\n\n---\n\n**Rule 12: Choose Your Battles Wisely**\n=====================================\n\nThe twelfth rule, \"Choose Your Battles Wisely\", emphasizes the importance of being strategic in one's efforts and resources. It highlights the need to prioritize and focus on the most critical issues, rather than spreading oneself too thin and getting bogged down in trivial or unnecessary conflicts.\n\nThis rule is particularly relevant in today's fast-paced and complex world, where the stakes are high and the pressure to perform is immense. It is essential to be selective and intentional in one's battles, as investing time, energy, and resources in the wrong areas can lead to burnout, frustration, and ultimately, failure.\n\nBy choosing your battles wisely, you can conserve your energy, maintain your focus, and increase your chances of success. This rule is not about avoiding challenges or conflicts altogether, but rather about being smart and strategic in your approach, and targeting the most critical and impactful areas where you can make a meaningful difference."
          },
          "metadata": {},
          "execution_count": 11
        }
      ]
    },
    {
      "cell_type": "markdown",
      "source": [
        "# Evaluator-optimizer\n",
        "![pic](https://langchain-ai.github.io/langgraph/tutorials/workflows/img/evaluator_optimizer.png)"
      ],
      "metadata": {
        "id": "S5YoCfQWnIxT"
      }
    },
    {
      "cell_type": "markdown",
      "source": [
        "## Basic Example"
      ],
      "metadata": {
        "id": "sDVdMkM2nI0W"
      }
    },
    {
      "cell_type": "code",
      "source": [
        "# Graph state\n",
        "class State(TypedDict):\n",
        "    joke: str\n",
        "    topic: str\n",
        "    feedback: str\n",
        "    funny_or_not: str\n",
        "\n",
        "\n",
        "# Schema for structured output to use in evaluation\n",
        "class Feedback(BaseModel):\n",
        "    grade: Literal[\"funny\", \"not funny\"] = Field(\n",
        "        description=\"Decide if the joke is funny or not.\",\n",
        "    )\n",
        "    feedback: str = Field(\n",
        "        description=\"If the joke is not funny, provide feedback on how to improve it.\",\n",
        "    )\n",
        "\n",
        "\n",
        "# Augment the LLM with schema for structured output\n",
        "evaluator = llm.with_structured_output(Feedback)\n",
        "\n",
        "\n",
        "# Nodes\n",
        "def llm_call_generator(state: State):\n",
        "    \"\"\"LLM generates a joke\"\"\"\n",
        "\n",
        "    if state.get(\"feedback\"):\n",
        "        msg = llm.invoke(\n",
        "            f\"Write a joke about {state['topic']} but take into account the feedback: {state['feedback']}\"\n",
        "        )\n",
        "    else:\n",
        "        msg = llm.invoke(f\"Write a joke about {state['topic']}\")\n",
        "    return {\"joke\": msg.content}\n",
        "\n",
        "\n",
        "def llm_call_evaluator(state: State):\n",
        "    \"\"\"LLM evaluates the joke\"\"\"\n",
        "\n",
        "    grade = evaluator.invoke(f\"Grade the joke {state['joke']}\")\n",
        "    return {\"funny_or_not\": grade.grade, \"feedback\": grade.feedback}\n",
        "\n",
        "\n",
        "# Conditional edge function to route back to joke generator or end based upon feedback from the evaluator\n",
        "def route_joke(state: State):\n",
        "    \"\"\"Route back to joke generator or end based upon feedback from the evaluator\"\"\"\n",
        "\n",
        "    if state[\"funny_or_not\"] == \"funny\":\n",
        "        return \"Accepted\"\n",
        "    elif state[\"funny_or_not\"] == \"not funny\":\n",
        "        return \"Rejected + Feedback\"\n",
        "\n",
        "\n",
        "# Build workflow\n",
        "optimizer_builder = StateGraph(State)\n",
        "\n",
        "# Add the nodes\n",
        "optimizer_builder.add_node(\"llm_call_generator\", llm_call_generator)\n",
        "optimizer_builder.add_node(\"llm_call_evaluator\", llm_call_evaluator)\n",
        "\n",
        "# Add edges to connect nodes\n",
        "optimizer_builder.add_edge(START, \"llm_call_generator\")\n",
        "optimizer_builder.add_edge(\"llm_call_generator\", \"llm_call_evaluator\")\n",
        "optimizer_builder.add_conditional_edges(\n",
        "    \"llm_call_evaluator\",\n",
        "    route_joke,\n",
        "    {  # Name returned by route_joke : Name of next node to visit\n",
        "        \"Accepted\": END,\n",
        "        \"Rejected + Feedback\": \"llm_call_generator\",\n",
        "    },\n",
        ")\n",
        "\n",
        "# Compile the workflow\n",
        "optimizer_workflow = optimizer_builder.compile()\n",
        "\n",
        "# Show the workflow\n",
        "display(Image(optimizer_workflow.get_graph().draw_mermaid_png()))\n",
        "\n",
        "# Invoke\n",
        "state = optimizer_workflow.invoke({\"topic\": \"Cats\"})\n",
        "print(state[\"joke\"])"
      ],
      "metadata": {
        "id": "3CKyuvwCnUNL",
        "colab": {
          "base_uri": "https://localhost:8080/",
          "height": 452
        },
        "outputId": "657c25fd-669a-4648-f157-b42d5f811e88"
      },
      "execution_count": null,
      "outputs": [
        {
          "output_type": "display_data",
          "data": {
            "image/png": "[encoded data removed]",
            "text/plain": [
              "<IPython.core.display.Image object>"
            ]
          },
          "metadata": {}
        },
        {
          "output_type": "stream",
          "name": "stdout",
          "text": [
            "Why did the cat join a band?\n",
            "\n",
            "Because it wanted to be the purr-cussionist!\n"
          ]
        }
      ]
    },
    {
      "cell_type": "markdown",
      "source": [
        "## Exercise: Get a reviewer to review the sentiment before confirming"
      ],
      "metadata": {
        "id": "oWOmGAR5nUKC"
      }
    },
    {
      "cell_type": "code",
      "source": [],
      "metadata": {
        "id": "n3Z4kIMpnebD"
      },
      "execution_count": null,
      "outputs": []
    },
    {
      "cell_type": "code",
      "source": [],
      "metadata": {
        "id": "3PR0reZGneXR"
      },
      "execution_count": null,
      "outputs": []
    },
    {
      "cell_type": "markdown",
      "source": [
        "# Agent\n",
        "![pic](https://langchain-ai.github.io/langgraph/tutorials/workflows/img/agent.png)"
      ],
      "metadata": {
        "id": "zcGCr0H5nIFm"
      }
    },
    {
      "cell_type": "code",
      "source": [
        "from langchain_core.tools import tool\n",
        "\n",
        "\n",
        "# Define tools\n",
        "@tool\n",
        "def multiply(a: int, b: int) -> int:\n",
        "    \"\"\"Multiply a and b.\n",
        "\n",
        "    Args:\n",
        "        a: first int\n",
        "        b: second int\n",
        "    \"\"\"\n",
        "    return a * b\n",
        "\n",
        "\n",
        "@tool\n",
        "def add(a: int, b: int) -> int:\n",
        "    \"\"\"Adds a and b.\n",
        "\n",
        "    Args:\n",
        "        a: first int\n",
        "        b: second int\n",
        "    \"\"\"\n",
        "    return a + b\n",
        "\n",
        "\n",
        "@tool\n",
        "def divide(a: int, b: int) -> float:\n",
        "    \"\"\"Divide a and b.\n",
        "\n",
        "    Args:\n",
        "        a: first int\n",
        "        b: second int\n",
        "    \"\"\"\n",
        "    return a / b\n",
        "\n",
        "\n",
        "# Augment the LLM with tools\n",
        "tools = [add, multiply, divide]\n",
        "tools_by_name = {tool.name: tool for tool in tools}\n",
        "llm_with_tools = llm.bind_tools(tools)\n",
        "\n",
        "\n",
        "# Invoke the LLM with input that triggers the tool call\n",
        "msg = llm_with_tools.invoke(\"What is 2 times 3?\")\n",
        "\n",
        "# Get the tool call\n",
        "msg.tool_calls"
      ],
      "metadata": {
        "id": "SQS72KFdnjwT",
        "colab": {
          "base_uri": "https://localhost:8080/"
        },
        "outputId": "6c682292-116e-40f3-ccdc-04b83d306720"
      },
      "execution_count": null,
      "outputs": [
        {
          "output_type": "execute_result",
          "data": {
            "text/plain": [
              "[{'name': 'multiply',\n",
              "  'args': {'a': 2, 'b': 3},\n",
              "  'id': 'dpc5kbv2j',\n",
              "  'type': 'tool_call'}]"
            ]
          },
          "metadata": {},
          "execution_count": 13
        }
      ]
    },
    {
      "cell_type": "code",
      "source": [
        "from langgraph.graph import MessagesState\n",
        "from langchain_core.messages import SystemMessage, HumanMessage, ToolMessage\n",
        "\n",
        "\n",
        "# Nodes\n",
        "def llm_call(state: MessagesState):\n",
        "    \"\"\"LLM decides whether to call a tool or not\"\"\"\n",
        "\n",
        "    return {\n",
        "        \"messages\": [\n",
        "            llm_with_tools.invoke(\n",
        "                [\n",
        "                    SystemMessage(\n",
        "                        content=\"You are a helpful assistant tasked with performing arithmetic on a set of inputs.\"\n",
        "                    )\n",
        "                ]\n",
        "                + state[\"messages\"]\n",
        "            )\n",
        "        ]\n",
        "    }\n",
        "\n",
        "\n",
        "def tool_node(state: dict):\n",
        "    \"\"\"Performs the tool call\"\"\"\n",
        "\n",
        "    result = []\n",
        "    for tool_call in state[\"messages\"][-1].tool_calls:\n",
        "        tool = tools_by_name[tool_call[\"name\"]]\n",
        "        observation = tool.invoke(tool_call[\"args\"])\n",
        "        result.append(ToolMessage(content=observation, tool_call_id=tool_call[\"id\"]))\n",
        "    return {\"messages\": result}\n",
        "\n",
        "\n",
        "# Conditional edge function to route to the tool node or end based upon whether the LLM made a tool call\n",
        "def should_continue(state: MessagesState) -> Literal[\"environment\", END]:\n",
        "    \"\"\"Decide if we should continue the loop or stop based upon whether the LLM made a tool call\"\"\"\n",
        "\n",
        "    messages = state[\"messages\"]\n",
        "    last_message = messages[-1]\n",
        "    # If the LLM makes a tool call, then perform an action\n",
        "    if last_message.tool_calls:\n",
        "        return \"Action\"\n",
        "    # Otherwise, we stop (reply to the user)\n",
        "    return END\n",
        "\n",
        "\n",
        "# Build workflow\n",
        "agent_builder = StateGraph(MessagesState)\n",
        "\n",
        "# Add nodes\n",
        "agent_builder.add_node(\"llm_call\", llm_call)\n",
        "agent_builder.add_node(\"environment\", tool_node)\n",
        "\n",
        "# Add edges to connect nodes\n",
        "agent_builder.add_edge(START, \"llm_call\")\n",
        "agent_builder.add_conditional_edges(\n",
        "    \"llm_call\",\n",
        "    should_continue,\n",
        "    {\n",
        "        # Name returned by should_continue : Name of next node to visit\n",
        "        \"Action\": \"environment\",\n",
        "        END: END,\n",
        "    },\n",
        ")\n",
        "agent_builder.add_edge(\"environment\", \"llm_call\")\n",
        "\n",
        "# Compile the agent\n",
        "agent = agent_builder.compile()\n",
        "\n",
        "# Show the agent\n",
        "display(Image(agent.get_graph(xray=True).draw_mermaid_png()))\n",
        "\n",
        "# Invoke\n",
        "messages = [HumanMessage(content=\"Add 3 and 4.\")]\n",
        "messages = agent.invoke({\"messages\": messages})\n",
        "for m in messages[\"messages\"]:\n",
        "    m.pretty_print()"
      ],
      "metadata": {
        "id": "OfoQLGzDSgdC",
        "colab": {
          "base_uri": "https://localhost:8080/",
          "height": 933
        },
        "outputId": "6c265c88-eb98-49f7-dbe4-5a51f5c4368a"
      },
      "execution_count": null,
      "outputs": [
        {
          "output_type": "display_data",
          "data": {
            "image/png": "[encoded data removed]",
            "text/plain": [
              "<IPython.core.display.Image object>"
            ]
          },
          "metadata": {}
        },
        {
          "output_type": "stream",
          "name": "stdout",
          "text": [
            "================================\u001b[1m Human Message \u001b[0m=================================\n",
            "\n",
            "Add 3 and 4.\n",
            "==================================\u001b[1m Ai Message \u001b[0m==================================\n",
            "Tool Calls:\n",
            "  add (r7y6cj0ax)\n",
            " Call ID: r7y6cj0ax\n",
            "  Args:\n",
            "    a: 3\n",
            "    b: 4\n",
            "=================================\u001b[1m Tool Message \u001b[0m=================================\n",
            "\n",
            "7\n",
            "==================================\u001b[1m Ai Message \u001b[0m==================================\n",
            "Tool Calls:\n",
            "  add (p5rvzf1et)\n",
            " Call ID: p5rvzf1et\n",
            "  Args:\n",
            "    a: 7\n",
            "    b: 5\n",
            "=================================\u001b[1m Tool Message \u001b[0m=================================\n",
            "\n",
            "12\n",
            "==================================\u001b[1m Ai Message \u001b[0m==================================\n",
            "Tool Calls:\n",
            "  add (stzc9r3ca)\n",
            " Call ID: stzc9r3ca\n",
            "  Args:\n",
            "    a: 12\n",
            "    b: 9\n",
            "=================================\u001b[1m Tool Message \u001b[0m=================================\n",
            "\n",
            "21\n",
            "==================================\u001b[1m Ai Message \u001b[0m==================================\n",
            "\n",
            "The answer is 21.\n"
          ]
        }
      ]
    },
    {
      "cell_type": "markdown",
      "source": [
        "# Exercise: Implement a basic deep search agent"
      ],
      "metadata": {
        "id": "-NuNs4zyStZH"
      }
    },
    {
      "cell_type": "code",
      "source": [
        "%pip install -qU langchain_community langchain_fireworks duckduckgo-search"
      ],
      "metadata": {
        "colab": {
          "base_uri": "https://localhost:8080/"
        },
        "id": "-gPzqZEXStUa",
        "outputId": "7caf9cee-c50e-43a5-f01e-591b90e117f0"
      },
      "execution_count": null,
      "outputs": [
        {
          "output_type": "stream",
          "name": "stdout",
          "text": [
            "\u001b[2K   \u001b[90m━━━━━━━━━━━━━━━━━━━━━━━━━━━━━━━━━━━━━━━━\u001b[0m \u001b[32m2.5/2.5 MB\u001b[0m \u001b[31m25.4 MB/s\u001b[0m eta \u001b[36m0:00:00\u001b[0m\n",
            "\u001b[2K   \u001b[90m━━━━━━━━━━━━━━━━━━━━━━━━━━━━━━━━━━━━━━━━\u001b[0m \u001b[32m569.2/569.2 kB\u001b[0m \u001b[31m26.4 MB/s\u001b[0m eta \u001b[36m0:00:00\u001b[0m\n",
            "\u001b[2K   \u001b[90m━━━━━━━━━━━━━━━━━━━━━━━━━━━━━━━━━━━━━━━━\u001b[0m \u001b[32m319.7/319.7 kB\u001b[0m \u001b[31m16.7 MB/s\u001b[0m eta \u001b[36m0:00:00\u001b[0m\n",
            "\u001b[2K   \u001b[90m━━━━━━━━━━━━━━━━━━━━━━━━━━━━━━━━━━━━━━━━\u001b[0m \u001b[32m3.3/3.3 MB\u001b[0m \u001b[31m76.1 MB/s\u001b[0m eta \u001b[36m0:00:00\u001b[0m\n",
            "\u001b[2K   \u001b[90m━━━━━━━━━━━━━━━━━━━━━━━━━━━━━━━━━━━━━━━━\u001b[0m \u001b[32m44.4/44.4 kB\u001b[0m \u001b[31m2.4 MB/s\u001b[0m eta \u001b[36m0:00:00\u001b[0m\n",
            "\u001b[2K   \u001b[90m━━━━━━━━━━━━━━━━━━━━━━━━━━━━━━━━━━━━━━━━\u001b[0m \u001b[32m44.9/44.9 kB\u001b[0m \u001b[31m2.7 MB/s\u001b[0m eta \u001b[36m0:00:00\u001b[0m\n",
            "\u001b[2K   \u001b[90m━━━━━━━━━━━━━━━━━━━━━━━━━━━━━━━━━━━━━━━━\u001b[0m \u001b[32m105.1/105.1 kB\u001b[0m \u001b[31m6.1 MB/s\u001b[0m eta \u001b[36m0:00:00\u001b[0m\n",
            "\u001b[2K   \u001b[90m━━━━━━━━━━━━━━━━━━━━━━━━━━━━━━━━━━━━━━━━\u001b[0m \u001b[32m50.9/50.9 kB\u001b[0m \u001b[31m3.1 MB/s\u001b[0m eta \u001b[36m0:00:00\u001b[0m\n",
            "\u001b[2K   \u001b[90m━━━━━━━━━━━━━━━━━━━━━━━━━━━━━━━━━━━━━━━━\u001b[0m \u001b[32m101.6/101.6 kB\u001b[0m \u001b[31m6.1 MB/s\u001b[0m eta \u001b[36m0:00:00\u001b[0m\n",
            "\u001b[2K   \u001b[90m━━━━━━━━━━━━━━━━━━━━━━━━━━━━━━━━━━━━━━━━\u001b[0m \u001b[32m243.2/243.2 kB\u001b[0m \u001b[31m15.1 MB/s\u001b[0m eta \u001b[36m0:00:00\u001b[0m\n",
            "\u001b[2K   \u001b[90m━━━━━━━━━━━━━━━━━━━━━━━━━━━━━━━━━━━━━━━━\u001b[0m \u001b[32m11.3/11.3 MB\u001b[0m \u001b[31m96.0 MB/s\u001b[0m eta \u001b[36m0:00:00\u001b[0m\n",
            "\u001b[?25h\u001b[31mERROR: pip's dependency resolver does not currently take into account all the packages that are installed. This behaviour is the source of the following dependency conflicts.\n",
            "bigframes 2.5.0 requires rich<14,>=12.4.4, but you have rich 14.0.0 which is incompatible.\u001b[0m\u001b[31m\n",
            "\u001b[0m"
          ]
        }
      ]
    },
    {
      "cell_type": "code",
      "source": [
        "from typing import List, Optional\n",
        "from langchain_core.prompts import ChatPromptTemplate\n",
        "from pydantic import BaseModel, Field, field_validator"
      ],
      "metadata": {
        "id": "M4aZgH9Snsob"
      },
      "execution_count": null,
      "outputs": []
    },
    {
      "cell_type": "code",
      "source": [
        "import json\n",
        "from typing import TypedDict\n",
        "from langchain_community.utilities.duckduckgo_search import DuckDuckGoSearchAPIWrapper\n",
        "from langchain_core.messages import SystemMessage, HumanMessage\n",
        "from langgraph.graph import StateGraph, START, END\n",
        "\n",
        "# State definition\n",
        "class SearchState(TypedDict):\n",
        "    question: str\n",
        "    search_query: str\n",
        "    search_results: str\n",
        "    answer: str\n",
        "    reasoning: str\n",
        "    is_good_enough: bool\n",
        "    iteration_count: int\n",
        "\n",
        "# Initialize tools and LLM\n",
        "web_search_tool = DuckDuckGoSearchAPIWrapper(max_results=3)\n",
        "# web_search_tool = TavilySearchResults(k=3)\n",
        "llm = ChatGroq(model=\"meta-llama/llama-4-scout-17b-16e-instruct\")\n",
        "\n",
        "def generate_search_query(state):\n",
        "    \"\"\"Generate or refine search query based on the question\"\"\"\n",
        "    question = state[\"question\"]\n",
        "    iteration = state.get(\"iteration_count\", 0)\n",
        "\n",
        "    if iteration == 0:\n",
        "        # First iteration - use original question\n",
        "        search_query = question\n",
        "    else:\n",
        "        # Refine query based on previous results\n",
        "        system_prompt = \"\"\"You are a search query optimizer. Given a question and previous search results that weren't satisfactory,\n",
        "        generate a better, more specific search query that might yield better results.\"\"\"\n",
        "\n",
        "        human_prompt = f\"\"\"\n",
        "        Original question: {question}\n",
        "        Previous search query: {state.get('search_query', '')}\n",
        "        Previous results were not satisfactory. Generate a better search query.\n",
        "        \"\"\"\n",
        "\n",
        "        messages = [\n",
        "            SystemMessage(content=system_prompt),\n",
        "            HumanMessage(content=human_prompt)\n",
        "        ]\n",
        "\n",
        "        response = llm.invoke(messages)\n",
        "        search_query = response.content.strip()\n",
        "\n",
        "    return {\n",
        "        **state,\n",
        "        \"search_query\": search_query,\n",
        "        \"iteration_count\": iteration + 1\n",
        "    }\n",
        "\n",
        "def web_search(state):\n",
        "    \"\"\"Perform web search using DuckDuckGo\"\"\"\n",
        "    search_query = state[\"search_query\"]\n",
        "\n",
        "    # Perform search\n",
        "    search_results = web_search_tool._ddgs_text(search_query)\n",
        "\n",
        "    # Format results\n",
        "    formatted_results = \"\\n\\n\".join([\n",
        "        f\"Title: {result['title']}\\nContent: {result['body']}\"\n",
        "        for result in search_results\n",
        "    ])\n",
        "\n",
        "    return {\n",
        "        **state,\n",
        "        \"search_results\": formatted_results\n",
        "    }\n",
        "\n",
        "def generate_answer_and_reasoning(state):\n",
        "    \"\"\"Generate answer and reasoning from search results\"\"\"\n",
        "    question = state[\"question\"]\n",
        "    search_results = state[\"search_results\"]\n",
        "\n",
        "    system_prompt = \"\"\"You are a helpful assistant that provides comprehensive answers based on search results.\n",
        "    Provide both an answer and your reasoning for why this answer addresses the question well.\"\"\"\n",
        "\n",
        "    human_prompt = f\"\"\"\n",
        "    Question: {question}\n",
        "\n",
        "    Search Results:\n",
        "    {search_results}\n",
        "\n",
        "    Based on these search results, provide:\n",
        "    1. A comprehensive answer to the question\n",
        "    2. Your reasoning for why this answer is good and addresses the question\n",
        "\n",
        "    Format your response as JSON with 'answer' and 'reasoning' fields.\n",
        "    \"\"\"\n",
        "\n",
        "    messages = [\n",
        "        SystemMessage(content=system_prompt),\n",
        "        HumanMessage(content=human_prompt)\n",
        "    ]\n",
        "\n",
        "    response = llm.invoke(messages)\n",
        "\n",
        "    try:\n",
        "        parsed_response = json.loads(response.content)\n",
        "        answer = parsed_response.get(\"answer\", \"\")\n",
        "        reasoning = parsed_response.get(\"reasoning\", \"\")\n",
        "    except:\n",
        "        # Fallback if JSON parsing fails\n",
        "        answer = response.content\n",
        "        reasoning = \"Generated from search results\"\n",
        "\n",
        "    return {\n",
        "        **state,\n",
        "        \"answer\": answer,\n",
        "        \"reasoning\": reasoning\n",
        "    }\n",
        "\n",
        "def evaluate_answer_quality(state):\n",
        "    \"\"\"Evaluate if the answer is good enough\"\"\"\n",
        "    question = state[\"question\"]\n",
        "    answer = state[\"answer\"]\n",
        "    reasoning = state[\"reasoning\"]\n",
        "    iteration_count = state[\"iteration_count\"]\n",
        "\n",
        "    # Stop after 3 iterations to prevent infinite loops\n",
        "    if iteration_count >= 3:\n",
        "        return {**state, \"is_good_enough\": True}\n",
        "\n",
        "    system_prompt = \"\"\"You are an answer quality evaluator. Determine if the provided answer adequately addresses the question.\n",
        "    Consider completeness, accuracy, and relevance.\"\"\"\n",
        "\n",
        "    human_prompt = f\"\"\"\n",
        "    Question: {question}\n",
        "    Answer: {answer}\n",
        "    Reasoning: {reasoning}\n",
        "\n",
        "    Is this answer good enough to satisfy the question? Respond with only 'yes' or 'no'.\n",
        "    \"\"\"\n",
        "\n",
        "    messages = [\n",
        "        SystemMessage(content=system_prompt),\n",
        "        HumanMessage(content=human_prompt)\n",
        "    ]\n",
        "\n",
        "    response = llm.invoke(messages)\n",
        "    is_good = response.content.strip().lower() == \"yes\"\n",
        "\n",
        "    return {\n",
        "        **state,\n",
        "        \"is_good_enough\": is_good\n",
        "    }\n",
        "\n",
        "def should_continue(state):\n",
        "    \"\"\"Decide whether to continue searching or end\"\"\"\n",
        "    return \"continue\" if not state[\"is_good_enough\"] else \"end\"\n",
        "\n",
        "# Build the graph\n",
        "workflow = StateGraph(SearchState)\n",
        "\n",
        "# Add nodes\n",
        "workflow.add_node(\"generate_query\", generate_search_query)\n",
        "workflow.add_node(\"search\", web_search)\n",
        "workflow.add_node(\"generate_answer\", generate_answer_and_reasoning)\n",
        "workflow.add_node(\"evaluate\", evaluate_answer_quality)\n",
        "\n",
        "# Add edges\n",
        "workflow.add_edge(START, \"generate_query\")\n",
        "workflow.add_edge(\"generate_query\", \"search\")\n",
        "workflow.add_edge(\"search\", \"generate_answer\")\n",
        "workflow.add_edge(\"generate_answer\", \"evaluate\")\n",
        "\n",
        "# Conditional edge for looping\n",
        "workflow.add_conditional_edges(\n",
        "    \"evaluate\",\n",
        "    should_continue,\n",
        "    {\n",
        "        \"continue\": \"generate_query\",\n",
        "        \"end\": END\n",
        "    }\n",
        ")\n",
        "\n",
        "# Compile the graph\n",
        "app = workflow.compile()\n",
        "\n",
        "# Usage example\n",
        "def search_and_answer(question: str):\n",
        "    \"\"\"Main function to search and answer a question\"\"\"\n",
        "    initial_state = {\n",
        "        \"question\": question,\n",
        "        \"search_query\": \"\",\n",
        "        \"search_results\": \"\",\n",
        "        \"answer\": \"\",\n",
        "        \"reasoning\": \"\",\n",
        "        \"is_good_enough\": False,\n",
        "        \"iteration_count\": 0\n",
        "    }\n",
        "\n",
        "    final_state = app.invoke(initial_state)\n",
        "\n",
        "    return {\n",
        "        \"question\": final_state[\"question\"],\n",
        "        \"final_answer\": final_state[\"answer\"],\n",
        "        \"reasoning\": final_state[\"reasoning\"],\n",
        "        \"iterations\": final_state[\"iteration_count\"],\n",
        "        \"search_queries_used\": final_state[\"search_query\"]\n",
        "    }"
      ],
      "metadata": {
        "id": "rG9jwadKBa9C"
      },
      "execution_count": null,
      "outputs": []
    },
    {
      "cell_type": "code",
      "source": [
        "display(Image(app.get_graph().draw_mermaid_png()))"
      ],
      "metadata": {
        "id": "Qf6LP8AuokhR"
      },
      "execution_count": null,
      "outputs": []
    },
    {
      "cell_type": "code",
      "source": [
        "result = search_and_answer(\"What does sam altman mean by gentle singularity?\")"
      ],
      "metadata": {
        "id": "UEdEDXpXBdBq"
      },
      "execution_count": null,
      "outputs": []
    },
    {
      "cell_type": "code",
      "source": [
        "print(f\"Question: {result['question']}\")\n",
        "print(f\"Answer: {result['final_answer']}\")\n",
        "print(f\"Reasoning: {result['reasoning']}\")\n",
        "print(f\"Iterations: {result['iterations']}\")"
      ],
      "metadata": {
        "colab": {
          "base_uri": "https://localhost:8080/"
        },
        "id": "s-dnKVRlBdh6",
        "outputId": "0031a144-41f8-40fa-a230-af1702f052bd"
      },
      "execution_count": null,
      "outputs": [
        {
          "output_type": "stream",
          "name": "stdout",
          "text": [
            "Question: What does sam altman mean by gentle singularity?\n",
            "Answer: ```json\n",
            "{\n",
            "  \"answer\": \"Sam Altman's concept of a 'Gentle Singularity' refers to a future where artificial general intelligence (AGI) is developed in a way that aligns with human values and promotes a beneficial outcome for society. According to Altman, we have already entered a phase of technological takeoff, and the goal is to ensure that AI systems learn and act in ways that align with what humanity collectively wants in the long term. In this vision of the future, knowledge becomes increasingly accessible and coordination among humans and AI systems becomes seamless. The gentle singularity implies a future where the development of AGI is managed in a way that avoids the pitfalls often associated with advanced AI, such as misaligned goals (as seen in social media algorithms that prioritize engagement over well-being).\",\n",
            "  \n",
            "  \"reasoning\": \"This answer addresses the question well because it directly incorporates information from the search results, specifically Sam Altman's own writings and interpretations of his concept. The definition of the 'Gentle Singularity' provided is grounded in Altman's vision for a future where AI development prioritizes alignment with human values, suggesting a deliberate and controlled approach to the creation of AGI. The answer also highlights the contrast between a 'gentle' singularity and the potential downsides of misaligned AI, demonstrating an understanding of Altman's concerns and proposed solutions. Furthermore, the answer is comprehensive, covering the key points of Altman's vision, including the accessibility of knowledge and the importance of coordination. The use of specific details from the search results, such as the reference to social media feeds as an example of misaligned AI, adds depth and credibility to the answer.\"\n",
            "}\n",
            "```\n",
            "Reasoning: Generated from search results\n",
            "Iterations: 1\n"
          ]
        }
      ]
    },
    {
      "cell_type": "code",
      "source": [],
      "metadata": {
        "id": "jYQ1csykBfKC"
      },
      "execution_count": null,
      "outputs": []
    },
    {
      "cell_type": "markdown",
      "source": [
        "# Exercise: Agentic Rag"
      ],
      "metadata": {
        "id": "SoMTJYcGbrOK"
      }
    },
    {
      "cell_type": "code",
      "source": [
        "# %%capture --no-stderr\n",
        "%pip install -qU langchain-community langchain-text-splitters chromadb"
      ],
      "metadata": {
        "colab": {
          "base_uri": "https://localhost:8080/"
        },
        "id": "QqyJg2ZqOGGf",
        "outputId": "7165e395-a4f3-4688-a1dd-4f78f1445b5a"
      },
      "execution_count": null,
      "outputs": [
        {
          "output_type": "stream",
          "name": "stdout",
          "text": [
            "\u001b[?25l   \u001b[90m━━━━━━━━━━━━━━━━━━━━━━━━━━━━━━━━━━━━━━━━\u001b[0m \u001b[32m0.0/130.2 kB\u001b[0m \u001b[31m?\u001b[0m eta \u001b[36m-:--:--\u001b[0m\r\u001b[2K   \u001b[90m━━━━━━━━━━━━━━━━━━━━━━━━━━━━━━━━━━━━━━━━\u001b[0m \u001b[32m130.2/130.2 kB\u001b[0m \u001b[31m9.4 MB/s\u001b[0m eta \u001b[36m0:00:00\u001b[0m\n",
            "\u001b[?25h"
          ]
        }
      ]
    },
    {
      "cell_type": "code",
      "source": [
        "import os\n",
        "from typing import Literal\n",
        "from pydantic import BaseModel, Field\n",
        "from langchain_core.messages import HumanMessage, AIMessage, ToolMessage\n",
        "from langchain_core.tools import tool\n",
        "from langchain_groq import ChatGroq\n",
        "from langchain_community.vectorstores import Chroma\n",
        "from langchain_community.embeddings import SentenceTransformerEmbeddings\n",
        "from langchain_community.document_loaders import WebBaseLoader\n",
        "from langchain_text_splitters import RecursiveCharacterTextSplitter\n",
        "from langgraph.graph import StateGraph, MessagesState, START, END\n",
        "from langgraph.prebuilt import ToolNode, tools_condition"
      ],
      "metadata": {
        "id": "5AGMNtOOyIJh"
      },
      "execution_count": null,
      "outputs": []
    },
    {
      "cell_type": "code",
      "source": [
        "# Initialize models\n",
        "llm = ChatGroq(model=\"llama3-8b-8192\", temperature=0)\n",
        "embeddings = SentenceTransformerEmbeddings(model_name=\"all-MiniLM-L6-v2\")\n",
        "\n",
        "# Create vector store and retriever\n",
        "def setup_vectorstore():\n",
        "    # Load and process documents\n",
        "    urls = [\n",
        "        \"https://lilianweng.github.io/posts/2023-06-23-agent/\",\n",
        "        \"https://lilianweng.github.io/posts/2023-03-15-prompt-engineering/\",\n",
        "    ]\n",
        "\n",
        "    docs = [WebBaseLoader(url).load() for url in urls]\n",
        "    docs_list = [item for sublist in docs for item in sublist]\n",
        "\n",
        "    text_splitter = RecursiveCharacterTextSplitter(\n",
        "        chunk_size=500, chunk_overlap=50\n",
        "    )\n",
        "    doc_splits = text_splitter.split_documents(docs_list)\n",
        "\n",
        "    vectorstore = Chroma.from_documents(\n",
        "        documents=doc_splits,\n",
        "        embedding=embeddings,\n",
        "        collection_name=\"rag-chroma\"\n",
        "    )\n",
        "    return vectorstore.as_retriever()\n",
        "\n",
        "retriever = setup_vectorstore()\n",
        "\n",
        "# Create retriever tool\n",
        "@tool\n",
        "def retrieve_documents(query: str) -> str:\n",
        "    \"\"\"Retrieve relevant documents and definitions for the given query about AI agents, hallucination, and related topics.\"\"\"\n",
        "    docs = retriever.invoke(query)\n",
        "    return \"\\n\\n\".join([doc.page_content for doc in docs])\n",
        "\n",
        "# Document grading schema\n",
        "class GradeDocuments(BaseModel):\n",
        "    \"\"\"Grade documents for relevance.\"\"\"\n",
        "    binary_score: str = Field(\n",
        "        description=\"Relevance score: 'yes' if relevant, 'no' if not relevant\"\n",
        "    )\n",
        "\n",
        "# Graph nodes\n",
        "def generate_query_or_respond(state: MessagesState):\n",
        "    \"\"\"Generate response or decide to retrieve documents.\"\"\"\n",
        "    response = llm.bind_tools([retrieve_documents]).invoke(state[\"messages\"])\n",
        "    return {\"messages\": [response]}\n",
        "\n",
        "def grade_documents(state: MessagesState) -> Literal[\"generate_answer\", \"rewrite_question\"]:\n",
        "    \"\"\"Grade retrieved documents for relevance.\"\"\"\n",
        "    question = state[\"messages\"][0].content\n",
        "    context = state[\"messages\"][-1].content\n",
        "\n",
        "    grade_prompt = f\"\"\"\n",
        "    You are a grader assessing relevance of retrieved documents to a user question.\n",
        "\n",
        "    Retrieved document: {context}\n",
        "    User question: {question}\n",
        "\n",
        "    If the document contains information related to the question, grade it as relevant.\n",
        "    Give a binary score 'yes' or 'no'.\n",
        "    \"\"\"\n",
        "\n",
        "    grader = llm.with_structured_output(GradeDocuments)\n",
        "    result = grader.invoke([HumanMessage(content=grade_prompt)])\n",
        "\n",
        "    return \"generate_answer\" if result.binary_score == \"yes\" else \"rewrite_question\"\n",
        "\n",
        "def generate_answer(state: MessagesState):\n",
        "    \"\"\"Generate final answer using retrieved context.\"\"\"\n",
        "    question = state[\"messages\"][0].content\n",
        "    context = state[\"messages\"][-1].content\n",
        "\n",
        "    # Print the retrieved context\n",
        "    print(\"---RETRIEVED CONTEXT---\")\n",
        "    print(context)\n",
        "    print(\"---END CONTEXT---\")\n",
        "\n",
        "\n",
        "    answer_prompt = f\"\"\"\n",
        "    You are an assistant for question-answering tasks.\n",
        "    Use the following context to answer the question.\n",
        "    If you don't know the answer, say so.\n",
        "    Keep the answer concise (3 sentences max).\n",
        "\n",
        "    Question: {question}\n",
        "    Context: {context}\n",
        "    \"\"\"\n",
        "\n",
        "    response = llm.invoke([HumanMessage(content=answer_prompt)])\n",
        "    return {\"messages\": [response]}\n",
        "\n",
        "def rewrite_question(state: MessagesState):\n",
        "    \"\"\"Rewrite question for better retrieval.\"\"\"\n",
        "\n",
        "    print(\"---REWRITING QUESTION---\")  # Add this line\n",
        "    question = state[\"messages\"][0].content\n",
        "\n",
        "    rewrite_prompt = f\"\"\"\n",
        "    You are a question re-writer. Re-write the following question to be more specific\n",
        "    and likely to retrieve relevant documents from a vector database.\n",
        "\n",
        "    Original question: {question}\n",
        "\n",
        "    Provide only the rewritten question.\n",
        "    \"\"\"\n",
        "\n",
        "    response = llm.invoke([HumanMessage(content=rewrite_prompt)])\n",
        "    return {\"messages\": [HumanMessage(content=response.content)]}\n",
        "\n",
        "# Build the graph\n",
        "workflow = StateGraph(MessagesState)\n",
        "# Add nodes\n",
        "workflow.add_node(\"generate_query_or_respond\", generate_query_or_respond)\n",
        "workflow.add_node(\"retrieve\", ToolNode([retrieve_documents]))\n",
        "workflow.add_node(\"generate_answer\", generate_answer)\n",
        "workflow.add_node(\"rewrite_question\", rewrite_question)\n",
        "\n",
        "# Add edges\n",
        "workflow.add_edge(START, \"generate_query_or_respond\")\n",
        "\n",
        "# Conditional routing based on tool calls\n",
        "workflow.add_conditional_edges(\n",
        "    \"generate_query_or_respond\",\n",
        "    tools_condition,\n",
        "    {\n",
        "        \"tools\": \"retrieve\",\n",
        "        END: END,\n",
        "    },\n",
        ")\n",
        "\n",
        "# Grade documents and route accordingly\n",
        "workflow.add_conditional_edges(\n",
        "    \"retrieve\",\n",
        "    grade_documents,\n",
        "    {\n",
        "        \"generate_answer\": \"generate_answer\",\n",
        "        \"rewrite_question\": \"rewrite_question\",\n",
        "    },\n",
        ")\n",
        "\n",
        "workflow.add_edge(\"generate_answer\", END)\n",
        "workflow.add_edge(\"rewrite_question\", \"generate_query_or_respond\")\n",
        "\n",
        "# Compile the graph\n",
        "app = workflow.compile()"
      ],
      "metadata": {
        "id": "zvCSQMevyTga"
      },
      "execution_count": null,
      "outputs": []
    },
    {
      "cell_type": "code",
      "source": [
        "def run_agentic_rag(question: str):\n",
        "    config = {\"configurable\": {\"thread_id\": \"1\"}}\n",
        "    final_state = None\n",
        "\n",
        "    for chunk in app.stream(\n",
        "        {\"messages\": [HumanMessage(content=question)]},\n",
        "        config=config,\n",
        "        stream_mode=\"values\"  # Stream full state values\n",
        "    ):\n",
        "        print(f\"Current state: {list(chunk.keys())}\")\n",
        "        final_state = chunk\n",
        "\n",
        "    if final_state and \"messages\" in final_state:\n",
        "        return final_state[\"messages\"][-1].content\n",
        "    return \"No answer generated\""
      ],
      "metadata": {
        "id": "5Opotsu8yWDz"
      },
      "execution_count": null,
      "outputs": []
    },
    {
      "cell_type": "code",
      "source": [
        "question = \"What are the key components of an AI agent?\"\n",
        "answer = run_agentic_rag(question)\n",
        "print(f\"Question: {question}\")\n",
        "print(f\"Answer: {answer}\")"
      ],
      "metadata": {
        "colab": {
          "base_uri": "https://localhost:8080/"
        },
        "id": "keJpoezNdweP",
        "outputId": "f5df75ee-a7cc-4cdd-902c-9167358c1df5"
      },
      "execution_count": null,
      "outputs": [
        {
          "output_type": "stream",
          "name": "stdout",
          "text": [
            "Current state: ['messages']\n",
            "Current state: ['messages']\n",
            "Current state: ['messages']\n",
            "---RETRIEVED CONTEXT---\n",
            "Component One: Planning#\n",
            "A complicated task usually involves many steps. An agent needs to know what they are and plan ahead.\n",
            "Task Decomposition#\n",
            "\n",
            "Component One: Planning#\n",
            "A complicated task usually involves many steps. An agent needs to know what they are and plan ahead.\n",
            "Task Decomposition#\n",
            "\n",
            "Component One: Planning#\n",
            "A complicated task usually involves many steps. An agent needs to know what they are and plan ahead.\n",
            "Task Decomposition#\n",
            "\n",
            "Component One: Planning#\n",
            "A complicated task usually involves many steps. An agent needs to know what they are and plan ahead.\n",
            "Task Decomposition#\n",
            "---END CONTEXT---\n",
            "Current state: ['messages']\n",
            "Question: What are the key components of an AI agent?\n",
            "Answer: Based on the provided context, the key components of an AI agent mentioned are:\n",
            "\n",
            "* Planning: This involves breaking down a complex task into smaller steps and planning ahead.\n",
            "* Task Decomposition: This is a part of the planning process, where the agent decomposes a task into smaller, manageable sub-tasks.\n",
            "\n",
            "Note: The context only mentions these two components, so it's likely that there are other components that are not mentioned.\n"
          ]
        }
      ]
    },
    {
      "cell_type": "code",
      "source": [
        "question = \"why does an agent hallucinate?\"\n",
        "answer = run_agentic_rag(question)\n",
        "print(f\"Question: {question}\")\n",
        "print(f\"Answer: {answer}\")"
      ],
      "metadata": {
        "colab": {
          "base_uri": "https://localhost:8080/"
        },
        "id": "becUBjcEbuiw",
        "outputId": "75417720-19fc-462c-e786-3ac305b05250"
      },
      "execution_count": null,
      "outputs": [
        {
          "output_type": "stream",
          "name": "stdout",
          "text": [
            "Current state: ['messages']\n",
            "Current state: ['messages']\n",
            "Current state: ['messages']\n",
            "---RETRIEVED CONTEXT---\n",
            "Planning is essentially in order to optimize believability at the moment vs in time.\n",
            "Prompt template: {Intro of an agent X}. Here is X's plan today in broad strokes: 1)\n",
            "Relationships between agents and observations of one agent by another are all taken into consideration for planning and reacting.\n",
            "Environment information is present in a tree structure.\n",
            "\n",
            "\n",
            "\n",
            "\n",
            "\n",
            "The generative agent architecture. (Image source: Park et al. 2023)\n",
            "\n",
            "Planning is essentially in order to optimize believability at the moment vs in time.\n",
            "Prompt template: {Intro of an agent X}. Here is X's plan today in broad strokes: 1)\n",
            "Relationships between agents and observations of one agent by another are all taken into consideration for planning and reacting.\n",
            "Environment information is present in a tree structure.\n",
            "\n",
            "\n",
            "\n",
            "\n",
            "\n",
            "The generative agent architecture. (Image source: Park et al. 2023)\n",
            "\n",
            "Planning is essentially in order to optimize believability at the moment vs in time.\n",
            "Prompt template: {Intro of an agent X}. Here is X's plan today in broad strokes: 1)\n",
            "Relationships between agents and observations of one agent by another are all taken into consideration for planning and reacting.\n",
            "Environment information is present in a tree structure.\n",
            "\n",
            "\n",
            "\n",
            "\n",
            "\n",
            "The generative agent architecture. (Image source: Park et al. 2023)\n",
            "\n",
            "Planning is essentially in order to optimize believability at the moment vs in time.\n",
            "Prompt template: {Intro of an agent X}. Here is X's plan today in broad strokes: 1)\n",
            "Relationships between agents and observations of one agent by another are all taken into consideration for planning and reacting.\n",
            "Environment information is present in a tree structure.\n",
            "\n",
            "\n",
            "\n",
            "\n",
            "\n",
            "The generative agent architecture. (Image source: Park et al. 2023)\n",
            "---END CONTEXT---\n",
            "Current state: ['messages']\n",
            "Question: why does an agent hallucinate?\n",
            "Answer: I'm not familiar with the specific context provided, but I can try to answer the question based on general knowledge. An agent may hallucinate due to incomplete or missing information in its environment model, causing it to generate unrealistic or incorrect observations. This can occur when the agent's planning and reacting processes are not perfectly aligned, leading to inconsistencies in its understanding of the environment.\n"
          ]
        }
      ]
    },
    {
      "cell_type": "code",
      "source": [
        "# Show workflow\n",
        "display(Image(app.get_graph().draw_mermaid_png()))"
      ],
      "metadata": {
        "colab": {
          "base_uri": "https://localhost:8080/",
          "height": 473
        },
        "id": "BLMckczuzFV_",
        "outputId": "f95c2b76-4ad0-42ff-cdfb-d6ea507cdb1c"
      },
      "execution_count": null,
      "outputs": [
        {
          "output_type": "display_data",
          "data": {
            "image/png": "[encoded data removed]",
            "text/plain": [
              "<IPython.core.display.Image object>"
            ]
          },
          "metadata": {}
        }
      ]
    },
    {
      "cell_type": "code",
      "source": [
        "# question = \"Compare and contrast the role of 'memory' in autonomous agents with the principles of prompt engineering discussed in the blog posts. How might the integration of prompt engineering techniques address limitations in an agent's memory system, and what novel challenges could arise from such integration?\"\n",
        "# question = \"\"\"Analyze the interplay between query rewriting and document grading in the RAG pipeline. Specifically:\n",
        "\n",
        "# 1. How might iterative query rewriting improve the precision of retrieved documents for ambiguous or multi-faceted questions?\n",
        "# 2. What thresholds or criteria could the 'grade_documents' step use to determine if retrieved content is sufficient for generating a reliable answer?\n",
        "# 3. Design a hypothetical scenario where the system fails to answer correctly without query rewriting, but succeeds when the rewrite step is activated. Use examples from the blog posts to ground your analysis.\"\"\"\n",
        "question = \"\"\"- Locate every place where the author explicitly describes or exemplifies a failure mode of LLM-based agents (e.g., hallucination, tool-use brittleness, prompt drift, evaluation blind spots, error propagation). Quote each passage verbatim (≤ 40 words) and give its section heading.\n",
        "\n",
        "- For each failure mode, identify one concrete prompt-engineering tactic from the March post that could mitigate it, and explain the link in one sentence.\n",
        "\n",
        "- Add a quantitative metric you would log in a production agent to detect this failure early.\n",
        "\n",
        "- Present the information in a four-column table: Failure Mode | Quote & Section | Mitigating Tactic | Monitoring Metric.\n",
        "\n",
        "- From the completed table, distil three overarching design principles for building robust, self-correcting agents, and justify each with evidence from multiple rows in the table.\"\"\"\n",
        "answer = run_agentic_rag(question)\n",
        "print(f\"Question: {question}\")\n",
        "print(f\"Answer: {answer}\")"
      ],
      "metadata": {
        "colab": {
          "base_uri": "https://localhost:8080/"
        },
        "id": "lqv9W_1aioh-",
        "outputId": "21ff6690-f92f-4c45-f7d6-4ec83366f95e"
      },
      "execution_count": null,
      "outputs": [
        {
          "output_type": "stream",
          "name": "stdout",
          "text": [
            "Node: generate_query_or_respond\n",
            "---\n",
            "Question: - Locate every place where the author explicitly describes or exemplifies a failure mode of LLM-based agents (e.g., hallucination, tool-use brittleness, prompt drift, evaluation blind spots, error propagation). Quote each passage verbatim (≤ 40 words) and give its section heading.\n",
            "\n",
            "- For each failure mode, identify one concrete prompt-engineering tactic from the March post that could mitigate it, and explain the link in one sentence.\n",
            "\n",
            "- Add a quantitative metric you would log in a production agent to detect this failure early.\n",
            "\n",
            "- Present the information in a four-column table: Failure Mode | Quote & Section | Mitigating Tactic | Monitoring Metric.\n",
            "\n",
            "- From the completed table, distil three overarching design principles for building robust, self-correcting agents, and justify each with evidence from multiple rows in the table.\n",
            "Answer: None\n"
          ]
        }
      ]
    },
    {
      "cell_type": "code",
      "source": [],
      "metadata": {
        "id": "4Ip6vVuxjVwf"
      },
      "execution_count": null,
      "outputs": []
    }
  ],
  "metadata": {
    "colab": {
      "provenance": [],
      "collapsed_sections": [
        "eZCpCxzlBkgv",
        "POhpdTX2SZZb",
        "nL-dRLOnaBW-",
        "XTaZHHkRaFQQ",
        "17RetWTiUAI9",
        "nVyLj-jNmi9v",
        "EDrGUa1ymlGe",
        "4UL6m_X3RKZR",
        "9IQ8e44Hm0jk",
        "ANBpNWcX6mAS",
        "4lcVCWwYnAxD",
        "oWOmGAR5nUKC",
        "zcGCr0H5nIFm",
        "-NuNs4zyStZH"
      ],
      "authorship_tag": "ABX9TyOhS2vZotB2Hsmb3qBhhD3l",
      "include_colab_link": true
    },
    "kernelspec": {
      "display_name": "Python 3",
      "name": "python3"
    },
    "language_info": {
      "name": "python"
    },
    "widgets": {
      "application/vnd.jupyter.widget-state+json": {
        "ef927e6a7baf4beeaa17fc1e79103c7a": {
          "model_module": "@jupyter-widgets/controls",
          "model_name": "HBoxModel",
          "model_module_version": "1.5.0",
          "state": {
            "_dom_classes": [],
            "_model_module": "@jupyter-widgets/controls",
            "_model_module_version": "1.5.0",
            "_model_name": "HBoxModel",
            "_view_count": null,
            "_view_module": "@jupyter-widgets/controls",
            "_view_module_version": "1.5.0",
            "_view_name": "HBoxView",
            "box_style": "",
            "children": [
              "IPY_MODEL_76e9cd5df5e94767927c2a889655daef",
              "IPY_MODEL_82cd3760b1d14cd1a2af0b93d7c8e46d",
              "IPY_MODEL_407c49737cb34a6097ee5ee3d43f51b1"
            ],
            "layout": "IPY_MODEL_2c20646a20b5418d8447eb9c090c9509"
          }
        },
        "76e9cd5df5e94767927c2a889655daef": {
          "model_module": "@jupyter-widgets/controls",
          "model_name": "HTMLModel",
          "model_module_version": "1.5.0",
          "state": {
            "_dom_classes": [],
            "_model_module": "@jupyter-widgets/controls",
            "_model_module_version": "1.5.0",
            "_model_name": "HTMLModel",
            "_view_count": null,
            "_view_module": "@jupyter-widgets/controls",
            "_view_module_version": "1.5.0",
            "_view_name": "HTMLView",
            "description": "",
            "description_tooltip": null,
            "layout": "IPY_MODEL_959f61fae554481986337cdb260d0cc4",
            "placeholder": "​",
            "style": "IPY_MODEL_d59e57ca0cd84f39a70492f8c6e97408",
            "value": "README.md: 100%"
          }
        },
        "82cd3760b1d14cd1a2af0b93d7c8e46d": {
          "model_module": "@jupyter-widgets/controls",
          "model_name": "FloatProgressModel",
          "model_module_version": "1.5.0",
          "state": {
            "_dom_classes": [],
            "_model_module": "@jupyter-widgets/controls",
            "_model_module_version": "1.5.0",
            "_model_name": "FloatProgressModel",
            "_view_count": null,
            "_view_module": "@jupyter-widgets/controls",
            "_view_module_version": "1.5.0",
            "_view_name": "ProgressView",
            "bar_style": "success",
            "description": "",
            "description_tooltip": null,
            "layout": "IPY_MODEL_ef08c679f3764788a79f49169819908b",
            "max": 8878,
            "min": 0,
            "orientation": "horizontal",
            "style": "IPY_MODEL_9286bee7b1394525aed1f67b6ea21e16",
            "value": 8878
          }
        },
        "407c49737cb34a6097ee5ee3d43f51b1": {
          "model_module": "@jupyter-widgets/controls",
          "model_name": "HTMLModel",
          "model_module_version": "1.5.0",
          "state": {
            "_dom_classes": [],
            "_model_module": "@jupyter-widgets/controls",
            "_model_module_version": "1.5.0",
            "_model_name": "HTMLModel",
            "_view_count": null,
            "_view_module": "@jupyter-widgets/controls",
            "_view_module_version": "1.5.0",
            "_view_name": "HTMLView",
            "description": "",
            "description_tooltip": null,
            "layout": "IPY_MODEL_3648f6e358ed45b3af0d29e8a02cd973",
            "placeholder": "​",
            "style": "IPY_MODEL_658a5d64fcf04405b59a5a40497c1d04",
            "value": " 8.88k/8.88k [00:00&lt;00:00, 56.8kB/s]"
          }
        },
        "2c20646a20b5418d8447eb9c090c9509": {
          "model_module": "@jupyter-widgets/base",
          "model_name": "LayoutModel",
          "model_module_version": "1.2.0",
          "state": {
            "_model_module": "@jupyter-widgets/base",
            "_model_module_version": "1.2.0",
            "_model_name": "LayoutModel",
            "_view_count": null,
            "_view_module": "@jupyter-widgets/base",
            "_view_module_version": "1.2.0",
            "_view_name": "LayoutView",
            "align_content": null,
            "align_items": null,
            "align_self": null,
            "border": null,
            "bottom": null,
            "display": null,
            "flex": null,
            "flex_flow": null,
            "grid_area": null,
            "grid_auto_columns": null,
            "grid_auto_flow": null,
            "grid_auto_rows": null,
            "grid_column": null,
            "grid_gap": null,
            "grid_row": null,
            "grid_template_areas": null,
            "grid_template_columns": null,
            "grid_template_rows": null,
            "height": null,
            "justify_content": null,
            "justify_items": null,
            "left": null,
            "margin": null,
            "max_height": null,
            "max_width": null,
            "min_height": null,
            "min_width": null,
            "object_fit": null,
            "object_position": null,
            "order": null,
            "overflow": null,
            "overflow_x": null,
            "overflow_y": null,
            "padding": null,
            "right": null,
            "top": null,
            "visibility": null,
            "width": null
          }
        },
        "959f61fae554481986337cdb260d0cc4": {
          "model_module": "@jupyter-widgets/base",
          "model_name": "LayoutModel",
          "model_module_version": "1.2.0",
          "state": {
            "_model_module": "@jupyter-widgets/base",
            "_model_module_version": "1.2.0",
            "_model_name": "LayoutModel",
            "_view_count": null,
            "_view_module": "@jupyter-widgets/base",
            "_view_module_version": "1.2.0",
            "_view_name": "LayoutView",
            "align_content": null,
            "align_items": null,
            "align_self": null,
            "border": null,
            "bottom": null,
            "display": null,
            "flex": null,
            "flex_flow": null,
            "grid_area": null,
            "grid_auto_columns": null,
            "grid_auto_flow": null,
            "grid_auto_rows": null,
            "grid_column": null,
            "grid_gap": null,
            "grid_row": null,
            "grid_template_areas": null,
            "grid_template_columns": null,
            "grid_template_rows": null,
            "height": null,
            "justify_content": null,
            "justify_items": null,
            "left": null,
            "margin": null,
            "max_height": null,
            "max_width": null,
            "min_height": null,
            "min_width": null,
            "object_fit": null,
            "object_position": null,
            "order": null,
            "overflow": null,
            "overflow_x": null,
            "overflow_y": null,
            "padding": null,
            "right": null,
            "top": null,
            "visibility": null,
            "width": null
          }
        },
        "d59e57ca0cd84f39a70492f8c6e97408": {
          "model_module": "@jupyter-widgets/controls",
          "model_name": "DescriptionStyleModel",
          "model_module_version": "1.5.0",
          "state": {
            "_model_module": "@jupyter-widgets/controls",
            "_model_module_version": "1.5.0",
            "_model_name": "DescriptionStyleModel",
            "_view_count": null,
            "_view_module": "@jupyter-widgets/base",
            "_view_module_version": "1.2.0",
            "_view_name": "StyleView",
            "description_width": ""
          }
        },
        "ef08c679f3764788a79f49169819908b": {
          "model_module": "@jupyter-widgets/base",
          "model_name": "LayoutModel",
          "model_module_version": "1.2.0",
          "state": {
            "_model_module": "@jupyter-widgets/base",
            "_model_module_version": "1.2.0",
            "_model_name": "LayoutModel",
            "_view_count": null,
            "_view_module": "@jupyter-widgets/base",
            "_view_module_version": "1.2.0",
            "_view_name": "LayoutView",
            "align_content": null,
            "align_items": null,
            "align_self": null,
            "border": null,
            "bottom": null,
            "display": null,
            "flex": null,
            "flex_flow": null,
            "grid_area": null,
            "grid_auto_columns": null,
            "grid_auto_flow": null,
            "grid_auto_rows": null,
            "grid_column": null,
            "grid_gap": null,
            "grid_row": null,
            "grid_template_areas": null,
            "grid_template_columns": null,
            "grid_template_rows": null,
            "height": null,
            "justify_content": null,
            "justify_items": null,
            "left": null,
            "margin": null,
            "max_height": null,
            "max_width": null,
            "min_height": null,
            "min_width": null,
            "object_fit": null,
            "object_position": null,
            "order": null,
            "overflow": null,
            "overflow_x": null,
            "overflow_y": null,
            "padding": null,
            "right": null,
            "top": null,
            "visibility": null,
            "width": null
          }
        },
        "9286bee7b1394525aed1f67b6ea21e16": {
          "model_module": "@jupyter-widgets/controls",
          "model_name": "ProgressStyleModel",
          "model_module_version": "1.5.0",
          "state": {
            "_model_module": "@jupyter-widgets/controls",
            "_model_module_version": "1.5.0",
            "_model_name": "ProgressStyleModel",
            "_view_count": null,
            "_view_module": "@jupyter-widgets/base",
            "_view_module_version": "1.2.0",
            "_view_name": "StyleView",
            "bar_color": null,
            "description_width": ""
          }
        },
        "3648f6e358ed45b3af0d29e8a02cd973": {
          "model_module": "@jupyter-widgets/base",
          "model_name": "LayoutModel",
          "model_module_version": "1.2.0",
          "state": {
            "_model_module": "@jupyter-widgets/base",
            "_model_module_version": "1.2.0",
            "_model_name": "LayoutModel",
            "_view_count": null,
            "_view_module": "@jupyter-widgets/base",
            "_view_module_version": "1.2.0",
            "_view_name": "LayoutView",
            "align_content": null,
            "align_items": null,
            "align_self": null,
            "border": null,
            "bottom": null,
            "display": null,
            "flex": null,
            "flex_flow": null,
            "grid_area": null,
            "grid_auto_columns": null,
            "grid_auto_flow": null,
            "grid_auto_rows": null,
            "grid_column": null,
            "grid_gap": null,
            "grid_row": null,
            "grid_template_areas": null,
            "grid_template_columns": null,
            "grid_template_rows": null,
            "height": null,
            "justify_content": null,
            "justify_items": null,
            "left": null,
            "margin": null,
            "max_height": null,
            "max_width": null,
            "min_height": null,
            "min_width": null,
            "object_fit": null,
            "object_position": null,
            "order": null,
            "overflow": null,
            "overflow_x": null,
            "overflow_y": null,
            "padding": null,
            "right": null,
            "top": null,
            "visibility": null,
            "width": null
          }
        },
        "658a5d64fcf04405b59a5a40497c1d04": {
          "model_module": "@jupyter-widgets/controls",
          "model_name": "DescriptionStyleModel",
          "model_module_version": "1.5.0",
          "state": {
            "_model_module": "@jupyter-widgets/controls",
            "_model_module_version": "1.5.0",
            "_model_name": "DescriptionStyleModel",
            "_view_count": null,
            "_view_module": "@jupyter-widgets/base",
            "_view_module_version": "1.2.0",
            "_view_name": "StyleView",
            "description_width": ""
          }
        },
        "2f04736e543d4c158ed430ec1e28533c": {
          "model_module": "@jupyter-widgets/controls",
          "model_name": "HBoxModel",
          "model_module_version": "1.5.0",
          "state": {
            "_dom_classes": [],
            "_model_module": "@jupyter-widgets/controls",
            "_model_module_version": "1.5.0",
            "_model_name": "HBoxModel",
            "_view_count": null,
            "_view_module": "@jupyter-widgets/controls",
            "_view_module_version": "1.5.0",
            "_view_name": "HBoxView",
            "box_style": "",
            "children": [
              "IPY_MODEL_0e905e1bb9694e8588f7ea4b630f315e",
              "IPY_MODEL_59aec6af1c7f4d4ba80a0fb389bb763d",
              "IPY_MODEL_ea95b24afc414fac96afaf88db816cc7"
            ],
            "layout": "IPY_MODEL_a03c9a83a1814929b0419ea23777c4d6"
          }
        },
        "0e905e1bb9694e8588f7ea4b630f315e": {
          "model_module": "@jupyter-widgets/controls",
          "model_name": "HTMLModel",
          "model_module_version": "1.5.0",
          "state": {
            "_dom_classes": [],
            "_model_module": "@jupyter-widgets/controls",
            "_model_module_version": "1.5.0",
            "_model_name": "HTMLModel",
            "_view_count": null,
            "_view_module": "@jupyter-widgets/controls",
            "_view_module_version": "1.5.0",
            "_view_name": "HTMLView",
            "description": "",
            "description_tooltip": null,
            "layout": "IPY_MODEL_3684a0975a8a41adb9fd24571ecbe2ce",
            "placeholder": "​",
            "style": "IPY_MODEL_0d31ba42395c46d784e17d7bf64b0921",
            "value": "financial_phrasebank.py: 100%"
          }
        },
        "59aec6af1c7f4d4ba80a0fb389bb763d": {
          "model_module": "@jupyter-widgets/controls",
          "model_name": "FloatProgressModel",
          "model_module_version": "1.5.0",
          "state": {
            "_dom_classes": [],
            "_model_module": "@jupyter-widgets/controls",
            "_model_module_version": "1.5.0",
            "_model_name": "FloatProgressModel",
            "_view_count": null,
            "_view_module": "@jupyter-widgets/controls",
            "_view_module_version": "1.5.0",
            "_view_name": "ProgressView",
            "bar_style": "success",
            "description": "",
            "description_tooltip": null,
            "layout": "IPY_MODEL_7eb6434b11ce4285829def5dbea19ab4",
            "max": 6036,
            "min": 0,
            "orientation": "horizontal",
            "style": "IPY_MODEL_f12ab632ed74448b91a53bc217ceeabc",
            "value": 6036
          }
        },
        "ea95b24afc414fac96afaf88db816cc7": {
          "model_module": "@jupyter-widgets/controls",
          "model_name": "HTMLModel",
          "model_module_version": "1.5.0",
          "state": {
            "_dom_classes": [],
            "_model_module": "@jupyter-widgets/controls",
            "_model_module_version": "1.5.0",
            "_model_name": "HTMLModel",
            "_view_count": null,
            "_view_module": "@jupyter-widgets/controls",
            "_view_module_version": "1.5.0",
            "_view_name": "HTMLView",
            "description": "",
            "description_tooltip": null,
            "layout": "IPY_MODEL_1719d6cb6d7a40fbbc98f972bbee5fbf",
            "placeholder": "​",
            "style": "IPY_MODEL_0a0fd6e7857b40338d8ee862b70eb269",
            "value": " 6.04k/6.04k [00:00&lt;00:00, 374kB/s]"
          }
        },
        "a03c9a83a1814929b0419ea23777c4d6": {
          "model_module": "@jupyter-widgets/base",
          "model_name": "LayoutModel",
          "model_module_version": "1.2.0",
          "state": {
            "_model_module": "@jupyter-widgets/base",
            "_model_module_version": "1.2.0",
            "_model_name": "LayoutModel",
            "_view_count": null,
            "_view_module": "@jupyter-widgets/base",
            "_view_module_version": "1.2.0",
            "_view_name": "LayoutView",
            "align_content": null,
            "align_items": null,
            "align_self": null,
            "border": null,
            "bottom": null,
            "display": null,
            "flex": null,
            "flex_flow": null,
            "grid_area": null,
            "grid_auto_columns": null,
            "grid_auto_flow": null,
            "grid_auto_rows": null,
            "grid_column": null,
            "grid_gap": null,
            "grid_row": null,
            "grid_template_areas": null,
            "grid_template_columns": null,
            "grid_template_rows": null,
            "height": null,
            "justify_content": null,
            "justify_items": null,
            "left": null,
            "margin": null,
            "max_height": null,
            "max_width": null,
            "min_height": null,
            "min_width": null,
            "object_fit": null,
            "object_position": null,
            "order": null,
            "overflow": null,
            "overflow_x": null,
            "overflow_y": null,
            "padding": null,
            "right": null,
            "top": null,
            "visibility": null,
            "width": null
          }
        },
        "3684a0975a8a41adb9fd24571ecbe2ce": {
          "model_module": "@jupyter-widgets/base",
          "model_name": "LayoutModel",
          "model_module_version": "1.2.0",
          "state": {
            "_model_module": "@jupyter-widgets/base",
            "_model_module_version": "1.2.0",
            "_model_name": "LayoutModel",
            "_view_count": null,
            "_view_module": "@jupyter-widgets/base",
            "_view_module_version": "1.2.0",
            "_view_name": "LayoutView",
            "align_content": null,
            "align_items": null,
            "align_self": null,
            "border": null,
            "bottom": null,
            "display": null,
            "flex": null,
            "flex_flow": null,
            "grid_area": null,
            "grid_auto_columns": null,
            "grid_auto_flow": null,
            "grid_auto_rows": null,
            "grid_column": null,
            "grid_gap": null,
            "grid_row": null,
            "grid_template_areas": null,
            "grid_template_columns": null,
            "grid_template_rows": null,
            "height": null,
            "justify_content": null,
            "justify_items": null,
            "left": null,
            "margin": null,
            "max_height": null,
            "max_width": null,
            "min_height": null,
            "min_width": null,
            "object_fit": null,
            "object_position": null,
            "order": null,
            "overflow": null,
            "overflow_x": null,
            "overflow_y": null,
            "padding": null,
            "right": null,
            "top": null,
            "visibility": null,
            "width": null
          }
        },
        "0d31ba42395c46d784e17d7bf64b0921": {
          "model_module": "@jupyter-widgets/controls",
          "model_name": "DescriptionStyleModel",
          "model_module_version": "1.5.0",
          "state": {
            "_model_module": "@jupyter-widgets/controls",
            "_model_module_version": "1.5.0",
            "_model_name": "DescriptionStyleModel",
            "_view_count": null,
            "_view_module": "@jupyter-widgets/base",
            "_view_module_version": "1.2.0",
            "_view_name": "StyleView",
            "description_width": ""
          }
        },
        "7eb6434b11ce4285829def5dbea19ab4": {
          "model_module": "@jupyter-widgets/base",
          "model_name": "LayoutModel",
          "model_module_version": "1.2.0",
          "state": {
            "_model_module": "@jupyter-widgets/base",
            "_model_module_version": "1.2.0",
            "_model_name": "LayoutModel",
            "_view_count": null,
            "_view_module": "@jupyter-widgets/base",
            "_view_module_version": "1.2.0",
            "_view_name": "LayoutView",
            "align_content": null,
            "align_items": null,
            "align_self": null,
            "border": null,
            "bottom": null,
            "display": null,
            "flex": null,
            "flex_flow": null,
            "grid_area": null,
            "grid_auto_columns": null,
            "grid_auto_flow": null,
            "grid_auto_rows": null,
            "grid_column": null,
            "grid_gap": null,
            "grid_row": null,
            "grid_template_areas": null,
            "grid_template_columns": null,
            "grid_template_rows": null,
            "height": null,
            "justify_content": null,
            "justify_items": null,
            "left": null,
            "margin": null,
            "max_height": null,
            "max_width": null,
            "min_height": null,
            "min_width": null,
            "object_fit": null,
            "object_position": null,
            "order": null,
            "overflow": null,
            "overflow_x": null,
            "overflow_y": null,
            "padding": null,
            "right": null,
            "top": null,
            "visibility": null,
            "width": null
          }
        },
        "f12ab632ed74448b91a53bc217ceeabc": {
          "model_module": "@jupyter-widgets/controls",
          "model_name": "ProgressStyleModel",
          "model_module_version": "1.5.0",
          "state": {
            "_model_module": "@jupyter-widgets/controls",
            "_model_module_version": "1.5.0",
            "_model_name": "ProgressStyleModel",
            "_view_count": null,
            "_view_module": "@jupyter-widgets/base",
            "_view_module_version": "1.2.0",
            "_view_name": "StyleView",
            "bar_color": null,
            "description_width": ""
          }
        },
        "1719d6cb6d7a40fbbc98f972bbee5fbf": {
          "model_module": "@jupyter-widgets/base",
          "model_name": "LayoutModel",
          "model_module_version": "1.2.0",
          "state": {
            "_model_module": "@jupyter-widgets/base",
            "_model_module_version": "1.2.0",
            "_model_name": "LayoutModel",
            "_view_count": null,
            "_view_module": "@jupyter-widgets/base",
            "_view_module_version": "1.2.0",
            "_view_name": "LayoutView",
            "align_content": null,
            "align_items": null,
            "align_self": null,
            "border": null,
            "bottom": null,
            "display": null,
            "flex": null,
            "flex_flow": null,
            "grid_area": null,
            "grid_auto_columns": null,
            "grid_auto_flow": null,
            "grid_auto_rows": null,
            "grid_column": null,
            "grid_gap": null,
            "grid_row": null,
            "grid_template_areas": null,
            "grid_template_columns": null,
            "grid_template_rows": null,
            "height": null,
            "justify_content": null,
            "justify_items": null,
            "left": null,
            "margin": null,
            "max_height": null,
            "max_width": null,
            "min_height": null,
            "min_width": null,
            "object_fit": null,
            "object_position": null,
            "order": null,
            "overflow": null,
            "overflow_x": null,
            "overflow_y": null,
            "padding": null,
            "right": null,
            "top": null,
            "visibility": null,
            "width": null
          }
        },
        "0a0fd6e7857b40338d8ee862b70eb269": {
          "model_module": "@jupyter-widgets/controls",
          "model_name": "DescriptionStyleModel",
          "model_module_version": "1.5.0",
          "state": {
            "_model_module": "@jupyter-widgets/controls",
            "_model_module_version": "1.5.0",
            "_model_name": "DescriptionStyleModel",
            "_view_count": null,
            "_view_module": "@jupyter-widgets/base",
            "_view_module_version": "1.2.0",
            "_view_name": "StyleView",
            "description_width": ""
          }
        },
        "80da0ede87eb439a89962dbcd2d5a622": {
          "model_module": "@jupyter-widgets/controls",
          "model_name": "HBoxModel",
          "model_module_version": "1.5.0",
          "state": {
            "_dom_classes": [],
            "_model_module": "@jupyter-widgets/controls",
            "_model_module_version": "1.5.0",
            "_model_name": "HBoxModel",
            "_view_count": null,
            "_view_module": "@jupyter-widgets/controls",
            "_view_module_version": "1.5.0",
            "_view_name": "HBoxView",
            "box_style": "",
            "children": [
              "IPY_MODEL_e3b7da8f273c480daca6e4ad4ff20141",
              "IPY_MODEL_9a8c5145a6ca492a93d5751a89625b87",
              "IPY_MODEL_4bf41fad8add45169252e71b3ec0813f"
            ],
            "layout": "IPY_MODEL_8b6f9a42eee94bd2a9cb07d2e075ea1e"
          }
        },
        "e3b7da8f273c480daca6e4ad4ff20141": {
          "model_module": "@jupyter-widgets/controls",
          "model_name": "HTMLModel",
          "model_module_version": "1.5.0",
          "state": {
            "_dom_classes": [],
            "_model_module": "@jupyter-widgets/controls",
            "_model_module_version": "1.5.0",
            "_model_name": "HTMLModel",
            "_view_count": null,
            "_view_module": "@jupyter-widgets/controls",
            "_view_module_version": "1.5.0",
            "_view_name": "HTMLView",
            "description": "",
            "description_tooltip": null,
            "layout": "IPY_MODEL_53bbee385ac1444d97ddfd99c8de557e",
            "placeholder": "​",
            "style": "IPY_MODEL_f2b5ec593fcd45b6b15d3ce6246d97a3",
            "value": "FinancialPhraseBank-v1.0.zip: 100%"
          }
        },
        "9a8c5145a6ca492a93d5751a89625b87": {
          "model_module": "@jupyter-widgets/controls",
          "model_name": "FloatProgressModel",
          "model_module_version": "1.5.0",
          "state": {
            "_dom_classes": [],
            "_model_module": "@jupyter-widgets/controls",
            "_model_module_version": "1.5.0",
            "_model_name": "FloatProgressModel",
            "_view_count": null,
            "_view_module": "@jupyter-widgets/controls",
            "_view_module_version": "1.5.0",
            "_view_name": "ProgressView",
            "bar_style": "success",
            "description": "",
            "description_tooltip": null,
            "layout": "IPY_MODEL_c012026d88614503a8e6e5448e6bc8be",
            "max": 681890,
            "min": 0,
            "orientation": "horizontal",
            "style": "IPY_MODEL_56a8ee14feac48efbc5bc3c76bc5918b",
            "value": 681890
          }
        },
        "4bf41fad8add45169252e71b3ec0813f": {
          "model_module": "@jupyter-widgets/controls",
          "model_name": "HTMLModel",
          "model_module_version": "1.5.0",
          "state": {
            "_dom_classes": [],
            "_model_module": "@jupyter-widgets/controls",
            "_model_module_version": "1.5.0",
            "_model_name": "HTMLModel",
            "_view_count": null,
            "_view_module": "@jupyter-widgets/controls",
            "_view_module_version": "1.5.0",
            "_view_name": "HTMLView",
            "description": "",
            "description_tooltip": null,
            "layout": "IPY_MODEL_3bd8f7cfce4a475185dbdf0c0c7c2099",
            "placeholder": "​",
            "style": "IPY_MODEL_c32bf4db8ecb4ceca694473393651c37",
            "value": " 682k/682k [00:00&lt;00:00, 3.85MB/s]"
          }
        },
        "8b6f9a42eee94bd2a9cb07d2e075ea1e": {
          "model_module": "@jupyter-widgets/base",
          "model_name": "LayoutModel",
          "model_module_version": "1.2.0",
          "state": {
            "_model_module": "@jupyter-widgets/base",
            "_model_module_version": "1.2.0",
            "_model_name": "LayoutModel",
            "_view_count": null,
            "_view_module": "@jupyter-widgets/base",
            "_view_module_version": "1.2.0",
            "_view_name": "LayoutView",
            "align_content": null,
            "align_items": null,
            "align_self": null,
            "border": null,
            "bottom": null,
            "display": null,
            "flex": null,
            "flex_flow": null,
            "grid_area": null,
            "grid_auto_columns": null,
            "grid_auto_flow": null,
            "grid_auto_rows": null,
            "grid_column": null,
            "grid_gap": null,
            "grid_row": null,
            "grid_template_areas": null,
            "grid_template_columns": null,
            "grid_template_rows": null,
            "height": null,
            "justify_content": null,
            "justify_items": null,
            "left": null,
            "margin": null,
            "max_height": null,
            "max_width": null,
            "min_height": null,
            "min_width": null,
            "object_fit": null,
            "object_position": null,
            "order": null,
            "overflow": null,
            "overflow_x": null,
            "overflow_y": null,
            "padding": null,
            "right": null,
            "top": null,
            "visibility": null,
            "width": null
          }
        },
        "53bbee385ac1444d97ddfd99c8de557e": {
          "model_module": "@jupyter-widgets/base",
          "model_name": "LayoutModel",
          "model_module_version": "1.2.0",
          "state": {
            "_model_module": "@jupyter-widgets/base",
            "_model_module_version": "1.2.0",
            "_model_name": "LayoutModel",
            "_view_count": null,
            "_view_module": "@jupyter-widgets/base",
            "_view_module_version": "1.2.0",
            "_view_name": "LayoutView",
            "align_content": null,
            "align_items": null,
            "align_self": null,
            "border": null,
            "bottom": null,
            "display": null,
            "flex": null,
            "flex_flow": null,
            "grid_area": null,
            "grid_auto_columns": null,
            "grid_auto_flow": null,
            "grid_auto_rows": null,
            "grid_column": null,
            "grid_gap": null,
            "grid_row": null,
            "grid_template_areas": null,
            "grid_template_columns": null,
            "grid_template_rows": null,
            "height": null,
            "justify_content": null,
            "justify_items": null,
            "left": null,
            "margin": null,
            "max_height": null,
            "max_width": null,
            "min_height": null,
            "min_width": null,
            "object_fit": null,
            "object_position": null,
            "order": null,
            "overflow": null,
            "overflow_x": null,
            "overflow_y": null,
            "padding": null,
            "right": null,
            "top": null,
            "visibility": null,
            "width": null
          }
        },
        "f2b5ec593fcd45b6b15d3ce6246d97a3": {
          "model_module": "@jupyter-widgets/controls",
          "model_name": "DescriptionStyleModel",
          "model_module_version": "1.5.0",
          "state": {
            "_model_module": "@jupyter-widgets/controls",
            "_model_module_version": "1.5.0",
            "_model_name": "DescriptionStyleModel",
            "_view_count": null,
            "_view_module": "@jupyter-widgets/base",
            "_view_module_version": "1.2.0",
            "_view_name": "StyleView",
            "description_width": ""
          }
        },
        "c012026d88614503a8e6e5448e6bc8be": {
          "model_module": "@jupyter-widgets/base",
          "model_name": "LayoutModel",
          "model_module_version": "1.2.0",
          "state": {
            "_model_module": "@jupyter-widgets/base",
            "_model_module_version": "1.2.0",
            "_model_name": "LayoutModel",
            "_view_count": null,
            "_view_module": "@jupyter-widgets/base",
            "_view_module_version": "1.2.0",
            "_view_name": "LayoutView",
            "align_content": null,
            "align_items": null,
            "align_self": null,
            "border": null,
            "bottom": null,
            "display": null,
            "flex": null,
            "flex_flow": null,
            "grid_area": null,
            "grid_auto_columns": null,
            "grid_auto_flow": null,
            "grid_auto_rows": null,
            "grid_column": null,
            "grid_gap": null,
            "grid_row": null,
            "grid_template_areas": null,
            "grid_template_columns": null,
            "grid_template_rows": null,
            "height": null,
            "justify_content": null,
            "justify_items": null,
            "left": null,
            "margin": null,
            "max_height": null,
            "max_width": null,
            "min_height": null,
            "min_width": null,
            "object_fit": null,
            "object_position": null,
            "order": null,
            "overflow": null,
            "overflow_x": null,
            "overflow_y": null,
            "padding": null,
            "right": null,
            "top": null,
            "visibility": null,
            "width": null
          }
        },
        "56a8ee14feac48efbc5bc3c76bc5918b": {
          "model_module": "@jupyter-widgets/controls",
          "model_name": "ProgressStyleModel",
          "model_module_version": "1.5.0",
          "state": {
            "_model_module": "@jupyter-widgets/controls",
            "_model_module_version": "1.5.0",
            "_model_name": "ProgressStyleModel",
            "_view_count": null,
            "_view_module": "@jupyter-widgets/base",
            "_view_module_version": "1.2.0",
            "_view_name": "StyleView",
            "bar_color": null,
            "description_width": ""
          }
        },
        "3bd8f7cfce4a475185dbdf0c0c7c2099": {
          "model_module": "@jupyter-widgets/base",
          "model_name": "LayoutModel",
          "model_module_version": "1.2.0",
          "state": {
            "_model_module": "@jupyter-widgets/base",
            "_model_module_version": "1.2.0",
            "_model_name": "LayoutModel",
            "_view_count": null,
            "_view_module": "@jupyter-widgets/base",
            "_view_module_version": "1.2.0",
            "_view_name": "LayoutView",
            "align_content": null,
            "align_items": null,
            "align_self": null,
            "border": null,
            "bottom": null,
            "display": null,
            "flex": null,
            "flex_flow": null,
            "grid_area": null,
            "grid_auto_columns": null,
            "grid_auto_flow": null,
            "grid_auto_rows": null,
            "grid_column": null,
            "grid_gap": null,
            "grid_row": null,
            "grid_template_areas": null,
            "grid_template_columns": null,
            "grid_template_rows": null,
            "height": null,
            "justify_content": null,
            "justify_items": null,
            "left": null,
            "margin": null,
            "max_height": null,
            "max_width": null,
            "min_height": null,
            "min_width": null,
            "object_fit": null,
            "object_position": null,
            "order": null,
            "overflow": null,
            "overflow_x": null,
            "overflow_y": null,
            "padding": null,
            "right": null,
            "top": null,
            "visibility": null,
            "width": null
          }
        },
        "c32bf4db8ecb4ceca694473393651c37": {
          "model_module": "@jupyter-widgets/controls",
          "model_name": "DescriptionStyleModel",
          "model_module_version": "1.5.0",
          "state": {
            "_model_module": "@jupyter-widgets/controls",
            "_model_module_version": "1.5.0",
            "_model_name": "DescriptionStyleModel",
            "_view_count": null,
            "_view_module": "@jupyter-widgets/base",
            "_view_module_version": "1.2.0",
            "_view_name": "StyleView",
            "description_width": ""
          }
        },
        "c5b6a7dc207f41a89be1e043ccc4d1ce": {
          "model_module": "@jupyter-widgets/controls",
          "model_name": "HBoxModel",
          "model_module_version": "1.5.0",
          "state": {
            "_dom_classes": [],
            "_model_module": "@jupyter-widgets/controls",
            "_model_module_version": "1.5.0",
            "_model_name": "HBoxModel",
            "_view_count": null,
            "_view_module": "@jupyter-widgets/controls",
            "_view_module_version": "1.5.0",
            "_view_name": "HBoxView",
            "box_style": "",
            "children": [
              "IPY_MODEL_5f7adda7248f4f98b3022a0bf3820cf4",
              "IPY_MODEL_90c6f4e5d31c4bc5a5cc7ca7c53d1656",
              "IPY_MODEL_4f71e1264649434c90f74c6a547371f8"
            ],
            "layout": "IPY_MODEL_f9e6d663803642da97399da1c634d9c9"
          }
        },
        "5f7adda7248f4f98b3022a0bf3820cf4": {
          "model_module": "@jupyter-widgets/controls",
          "model_name": "HTMLModel",
          "model_module_version": "1.5.0",
          "state": {
            "_dom_classes": [],
            "_model_module": "@jupyter-widgets/controls",
            "_model_module_version": "1.5.0",
            "_model_name": "HTMLModel",
            "_view_count": null,
            "_view_module": "@jupyter-widgets/controls",
            "_view_module_version": "1.5.0",
            "_view_name": "HTMLView",
            "description": "",
            "description_tooltip": null,
            "layout": "IPY_MODEL_6bd236a4286c4187b4582c657297133b",
            "placeholder": "​",
            "style": "IPY_MODEL_5da83783914a43ddb5929389c98aea22",
            "value": "Generating train split: 100%"
          }
        },
        "90c6f4e5d31c4bc5a5cc7ca7c53d1656": {
          "model_module": "@jupyter-widgets/controls",
          "model_name": "FloatProgressModel",
          "model_module_version": "1.5.0",
          "state": {
            "_dom_classes": [],
            "_model_module": "@jupyter-widgets/controls",
            "_model_module_version": "1.5.0",
            "_model_name": "FloatProgressModel",
            "_view_count": null,
            "_view_module": "@jupyter-widgets/controls",
            "_view_module_version": "1.5.0",
            "_view_name": "ProgressView",
            "bar_style": "success",
            "description": "",
            "description_tooltip": null,
            "layout": "IPY_MODEL_19eed3af99944139b1b6ee2c42c0bc27",
            "max": 4846,
            "min": 0,
            "orientation": "horizontal",
            "style": "IPY_MODEL_37267acb4b2a4a7f95bab8b1e876b909",
            "value": 4846
          }
        },
        "4f71e1264649434c90f74c6a547371f8": {
          "model_module": "@jupyter-widgets/controls",
          "model_name": "HTMLModel",
          "model_module_version": "1.5.0",
          "state": {
            "_dom_classes": [],
            "_model_module": "@jupyter-widgets/controls",
            "_model_module_version": "1.5.0",
            "_model_name": "HTMLModel",
            "_view_count": null,
            "_view_module": "@jupyter-widgets/controls",
            "_view_module_version": "1.5.0",
            "_view_name": "HTMLView",
            "description": "",
            "description_tooltip": null,
            "layout": "IPY_MODEL_23966fbb5bf649c1a9fe7e3b7f3fc648",
            "placeholder": "​",
            "style": "IPY_MODEL_53fc7f4177334f6aba975b2fb2f59c1e",
            "value": " 4846/4846 [00:00&lt;00:00, 8712.87 examples/s]"
          }
        },
        "f9e6d663803642da97399da1c634d9c9": {
          "model_module": "@jupyter-widgets/base",
          "model_name": "LayoutModel",
          "model_module_version": "1.2.0",
          "state": {
            "_model_module": "@jupyter-widgets/base",
            "_model_module_version": "1.2.0",
            "_model_name": "LayoutModel",
            "_view_count": null,
            "_view_module": "@jupyter-widgets/base",
            "_view_module_version": "1.2.0",
            "_view_name": "LayoutView",
            "align_content": null,
            "align_items": null,
            "align_self": null,
            "border": null,
            "bottom": null,
            "display": null,
            "flex": null,
            "flex_flow": null,
            "grid_area": null,
            "grid_auto_columns": null,
            "grid_auto_flow": null,
            "grid_auto_rows": null,
            "grid_column": null,
            "grid_gap": null,
            "grid_row": null,
            "grid_template_areas": null,
            "grid_template_columns": null,
            "grid_template_rows": null,
            "height": null,
            "justify_content": null,
            "justify_items": null,
            "left": null,
            "margin": null,
            "max_height": null,
            "max_width": null,
            "min_height": null,
            "min_width": null,
            "object_fit": null,
            "object_position": null,
            "order": null,
            "overflow": null,
            "overflow_x": null,
            "overflow_y": null,
            "padding": null,
            "right": null,
            "top": null,
            "visibility": null,
            "width": null
          }
        },
        "6bd236a4286c4187b4582c657297133b": {
          "model_module": "@jupyter-widgets/base",
          "model_name": "LayoutModel",
          "model_module_version": "1.2.0",
          "state": {
            "_model_module": "@jupyter-widgets/base",
            "_model_module_version": "1.2.0",
            "_model_name": "LayoutModel",
            "_view_count": null,
            "_view_module": "@jupyter-widgets/base",
            "_view_module_version": "1.2.0",
            "_view_name": "LayoutView",
            "align_content": null,
            "align_items": null,
            "align_self": null,
            "border": null,
            "bottom": null,
            "display": null,
            "flex": null,
            "flex_flow": null,
            "grid_area": null,
            "grid_auto_columns": null,
            "grid_auto_flow": null,
            "grid_auto_rows": null,
            "grid_column": null,
            "grid_gap": null,
            "grid_row": null,
            "grid_template_areas": null,
            "grid_template_columns": null,
            "grid_template_rows": null,
            "height": null,
            "justify_content": null,
            "justify_items": null,
            "left": null,
            "margin": null,
            "max_height": null,
            "max_width": null,
            "min_height": null,
            "min_width": null,
            "object_fit": null,
            "object_position": null,
            "order": null,
            "overflow": null,
            "overflow_x": null,
            "overflow_y": null,
            "padding": null,
            "right": null,
            "top": null,
            "visibility": null,
            "width": null
          }
        },
        "5da83783914a43ddb5929389c98aea22": {
          "model_module": "@jupyter-widgets/controls",
          "model_name": "DescriptionStyleModel",
          "model_module_version": "1.5.0",
          "state": {
            "_model_module": "@jupyter-widgets/controls",
            "_model_module_version": "1.5.0",
            "_model_name": "DescriptionStyleModel",
            "_view_count": null,
            "_view_module": "@jupyter-widgets/base",
            "_view_module_version": "1.2.0",
            "_view_name": "StyleView",
            "description_width": ""
          }
        },
        "19eed3af99944139b1b6ee2c42c0bc27": {
          "model_module": "@jupyter-widgets/base",
          "model_name": "LayoutModel",
          "model_module_version": "1.2.0",
          "state": {
            "_model_module": "@jupyter-widgets/base",
            "_model_module_version": "1.2.0",
            "_model_name": "LayoutModel",
            "_view_count": null,
            "_view_module": "@jupyter-widgets/base",
            "_view_module_version": "1.2.0",
            "_view_name": "LayoutView",
            "align_content": null,
            "align_items": null,
            "align_self": null,
            "border": null,
            "bottom": null,
            "display": null,
            "flex": null,
            "flex_flow": null,
            "grid_area": null,
            "grid_auto_columns": null,
            "grid_auto_flow": null,
            "grid_auto_rows": null,
            "grid_column": null,
            "grid_gap": null,
            "grid_row": null,
            "grid_template_areas": null,
            "grid_template_columns": null,
            "grid_template_rows": null,
            "height": null,
            "justify_content": null,
            "justify_items": null,
            "left": null,
            "margin": null,
            "max_height": null,
            "max_width": null,
            "min_height": null,
            "min_width": null,
            "object_fit": null,
            "object_position": null,
            "order": null,
            "overflow": null,
            "overflow_x": null,
            "overflow_y": null,
            "padding": null,
            "right": null,
            "top": null,
            "visibility": null,
            "width": null
          }
        },
        "37267acb4b2a4a7f95bab8b1e876b909": {
          "model_module": "@jupyter-widgets/controls",
          "model_name": "ProgressStyleModel",
          "model_module_version": "1.5.0",
          "state": {
            "_model_module": "@jupyter-widgets/controls",
            "_model_module_version": "1.5.0",
            "_model_name": "ProgressStyleModel",
            "_view_count": null,
            "_view_module": "@jupyter-widgets/base",
            "_view_module_version": "1.2.0",
            "_view_name": "StyleView",
            "bar_color": null,
            "description_width": ""
          }
        },
        "23966fbb5bf649c1a9fe7e3b7f3fc648": {
          "model_module": "@jupyter-widgets/base",
          "model_name": "LayoutModel",
          "model_module_version": "1.2.0",
          "state": {
            "_model_module": "@jupyter-widgets/base",
            "_model_module_version": "1.2.0",
            "_model_name": "LayoutModel",
            "_view_count": null,
            "_view_module": "@jupyter-widgets/base",
            "_view_module_version": "1.2.0",
            "_view_name": "LayoutView",
            "align_content": null,
            "align_items": null,
            "align_self": null,
            "border": null,
            "bottom": null,
            "display": null,
            "flex": null,
            "flex_flow": null,
            "grid_area": null,
            "grid_auto_columns": null,
            "grid_auto_flow": null,
            "grid_auto_rows": null,
            "grid_column": null,
            "grid_gap": null,
            "grid_row": null,
            "grid_template_areas": null,
            "grid_template_columns": null,
            "grid_template_rows": null,
            "height": null,
            "justify_content": null,
            "justify_items": null,
            "left": null,
            "margin": null,
            "max_height": null,
            "max_width": null,
            "min_height": null,
            "min_width": null,
            "object_fit": null,
            "object_position": null,
            "order": null,
            "overflow": null,
            "overflow_x": null,
            "overflow_y": null,
            "padding": null,
            "right": null,
            "top": null,
            "visibility": null,
            "width": null
          }
        },
        "53fc7f4177334f6aba975b2fb2f59c1e": {
          "model_module": "@jupyter-widgets/controls",
          "model_name": "DescriptionStyleModel",
          "model_module_version": "1.5.0",
          "state": {
            "_model_module": "@jupyter-widgets/controls",
            "_model_module_version": "1.5.0",
            "_model_name": "DescriptionStyleModel",
            "_view_count": null,
            "_view_module": "@jupyter-widgets/base",
            "_view_module_version": "1.2.0",
            "_view_name": "StyleView",
            "description_width": ""
          }
        },
        "6bd4877fb13247ac9fce86b24c2292ba": {
          "model_module": "@jupyter-widgets/controls",
          "model_name": "HBoxModel",
          "model_module_version": "1.5.0",
          "state": {
            "_dom_classes": [],
            "_model_module": "@jupyter-widgets/controls",
            "_model_module_version": "1.5.0",
            "_model_name": "HBoxModel",
            "_view_count": null,
            "_view_module": "@jupyter-widgets/controls",
            "_view_module_version": "1.5.0",
            "_view_name": "HBoxView",
            "box_style": "",
            "children": [
              "IPY_MODEL_43d2b9f0fd8f4de2b402c32da9fcb320",
              "IPY_MODEL_51f888bc86e0494bb39fcdf41e534004",
              "IPY_MODEL_f3d20c2a962645e6b97c8dcb22c44bc1"
            ],
            "layout": "IPY_MODEL_911f186c88a74413adfcb344c4b6c4ba"
          }
        },
        "43d2b9f0fd8f4de2b402c32da9fcb320": {
          "model_module": "@jupyter-widgets/controls",
          "model_name": "HTMLModel",
          "model_module_version": "1.5.0",
          "state": {
            "_dom_classes": [],
            "_model_module": "@jupyter-widgets/controls",
            "_model_module_version": "1.5.0",
            "_model_name": "HTMLModel",
            "_view_count": null,
            "_view_module": "@jupyter-widgets/controls",
            "_view_module_version": "1.5.0",
            "_view_name": "HTMLView",
            "description": "",
            "description_tooltip": null,
            "layout": "IPY_MODEL_a13cf2e711c4408187eafad6d042e3c3",
            "placeholder": "​",
            "style": "IPY_MODEL_669d8ad03918477e9528276e2ec45f3a",
            "value": "Casting the dataset: 100%"
          }
        },
        "51f888bc86e0494bb39fcdf41e534004": {
          "model_module": "@jupyter-widgets/controls",
          "model_name": "FloatProgressModel",
          "model_module_version": "1.5.0",
          "state": {
            "_dom_classes": [],
            "_model_module": "@jupyter-widgets/controls",
            "_model_module_version": "1.5.0",
            "_model_name": "FloatProgressModel",
            "_view_count": null,
            "_view_module": "@jupyter-widgets/controls",
            "_view_module_version": "1.5.0",
            "_view_name": "ProgressView",
            "bar_style": "success",
            "description": "",
            "description_tooltip": null,
            "layout": "IPY_MODEL_e01a8c01b0984a82bdf2058a96f0a6e7",
            "max": 20,
            "min": 0,
            "orientation": "horizontal",
            "style": "IPY_MODEL_79eb255e28fc420f8e0b3dd03ac4f14c",
            "value": 20
          }
        },
        "f3d20c2a962645e6b97c8dcb22c44bc1": {
          "model_module": "@jupyter-widgets/controls",
          "model_name": "HTMLModel",
          "model_module_version": "1.5.0",
          "state": {
            "_dom_classes": [],
            "_model_module": "@jupyter-widgets/controls",
            "_model_module_version": "1.5.0",
            "_model_name": "HTMLModel",
            "_view_count": null,
            "_view_module": "@jupyter-widgets/controls",
            "_view_module_version": "1.5.0",
            "_view_name": "HTMLView",
            "description": "",
            "description_tooltip": null,
            "layout": "IPY_MODEL_f8a186156f8e447db005a2c2d9bc01c6",
            "placeholder": "​",
            "style": "IPY_MODEL_1d34a67006d540a787fb181f99ddea10",
            "value": " 20/20 [00:00&lt;00:00, 341.80 examples/s]"
          }
        },
        "911f186c88a74413adfcb344c4b6c4ba": {
          "model_module": "@jupyter-widgets/base",
          "model_name": "LayoutModel",
          "model_module_version": "1.2.0",
          "state": {
            "_model_module": "@jupyter-widgets/base",
            "_model_module_version": "1.2.0",
            "_model_name": "LayoutModel",
            "_view_count": null,
            "_view_module": "@jupyter-widgets/base",
            "_view_module_version": "1.2.0",
            "_view_name": "LayoutView",
            "align_content": null,
            "align_items": null,
            "align_self": null,
            "border": null,
            "bottom": null,
            "display": null,
            "flex": null,
            "flex_flow": null,
            "grid_area": null,
            "grid_auto_columns": null,
            "grid_auto_flow": null,
            "grid_auto_rows": null,
            "grid_column": null,
            "grid_gap": null,
            "grid_row": null,
            "grid_template_areas": null,
            "grid_template_columns": null,
            "grid_template_rows": null,
            "height": null,
            "justify_content": null,
            "justify_items": null,
            "left": null,
            "margin": null,
            "max_height": null,
            "max_width": null,
            "min_height": null,
            "min_width": null,
            "object_fit": null,
            "object_position": null,
            "order": null,
            "overflow": null,
            "overflow_x": null,
            "overflow_y": null,
            "padding": null,
            "right": null,
            "top": null,
            "visibility": null,
            "width": null
          }
        },
        "a13cf2e711c4408187eafad6d042e3c3": {
          "model_module": "@jupyter-widgets/base",
          "model_name": "LayoutModel",
          "model_module_version": "1.2.0",
          "state": {
            "_model_module": "@jupyter-widgets/base",
            "_model_module_version": "1.2.0",
            "_model_name": "LayoutModel",
            "_view_count": null,
            "_view_module": "@jupyter-widgets/base",
            "_view_module_version": "1.2.0",
            "_view_name": "LayoutView",
            "align_content": null,
            "align_items": null,
            "align_self": null,
            "border": null,
            "bottom": null,
            "display": null,
            "flex": null,
            "flex_flow": null,
            "grid_area": null,
            "grid_auto_columns": null,
            "grid_auto_flow": null,
            "grid_auto_rows": null,
            "grid_column": null,
            "grid_gap": null,
            "grid_row": null,
            "grid_template_areas": null,
            "grid_template_columns": null,
            "grid_template_rows": null,
            "height": null,
            "justify_content": null,
            "justify_items": null,
            "left": null,
            "margin": null,
            "max_height": null,
            "max_width": null,
            "min_height": null,
            "min_width": null,
            "object_fit": null,
            "object_position": null,
            "order": null,
            "overflow": null,
            "overflow_x": null,
            "overflow_y": null,
            "padding": null,
            "right": null,
            "top": null,
            "visibility": null,
            "width": null
          }
        },
        "669d8ad03918477e9528276e2ec45f3a": {
          "model_module": "@jupyter-widgets/controls",
          "model_name": "DescriptionStyleModel",
          "model_module_version": "1.5.0",
          "state": {
            "_model_module": "@jupyter-widgets/controls",
            "_model_module_version": "1.5.0",
            "_model_name": "DescriptionStyleModel",
            "_view_count": null,
            "_view_module": "@jupyter-widgets/base",
            "_view_module_version": "1.2.0",
            "_view_name": "StyleView",
            "description_width": ""
          }
        },
        "e01a8c01b0984a82bdf2058a96f0a6e7": {
          "model_module": "@jupyter-widgets/base",
          "model_name": "LayoutModel",
          "model_module_version": "1.2.0",
          "state": {
            "_model_module": "@jupyter-widgets/base",
            "_model_module_version": "1.2.0",
            "_model_name": "LayoutModel",
            "_view_count": null,
            "_view_module": "@jupyter-widgets/base",
            "_view_module_version": "1.2.0",
            "_view_name": "LayoutView",
            "align_content": null,
            "align_items": null,
            "align_self": null,
            "border": null,
            "bottom": null,
            "display": null,
            "flex": null,
            "flex_flow": null,
            "grid_area": null,
            "grid_auto_columns": null,
            "grid_auto_flow": null,
            "grid_auto_rows": null,
            "grid_column": null,
            "grid_gap": null,
            "grid_row": null,
            "grid_template_areas": null,
            "grid_template_columns": null,
            "grid_template_rows": null,
            "height": null,
            "justify_content": null,
            "justify_items": null,
            "left": null,
            "margin": null,
            "max_height": null,
            "max_width": null,
            "min_height": null,
            "min_width": null,
            "object_fit": null,
            "object_position": null,
            "order": null,
            "overflow": null,
            "overflow_x": null,
            "overflow_y": null,
            "padding": null,
            "right": null,
            "top": null,
            "visibility": null,
            "width": null
          }
        },
        "79eb255e28fc420f8e0b3dd03ac4f14c": {
          "model_module": "@jupyter-widgets/controls",
          "model_name": "ProgressStyleModel",
          "model_module_version": "1.5.0",
          "state": {
            "_model_module": "@jupyter-widgets/controls",
            "_model_module_version": "1.5.0",
            "_model_name": "ProgressStyleModel",
            "_view_count": null,
            "_view_module": "@jupyter-widgets/base",
            "_view_module_version": "1.2.0",
            "_view_name": "StyleView",
            "bar_color": null,
            "description_width": ""
          }
        },
        "f8a186156f8e447db005a2c2d9bc01c6": {
          "model_module": "@jupyter-widgets/base",
          "model_name": "LayoutModel",
          "model_module_version": "1.2.0",
          "state": {
            "_model_module": "@jupyter-widgets/base",
            "_model_module_version": "1.2.0",
            "_model_name": "LayoutModel",
            "_view_count": null,
            "_view_module": "@jupyter-widgets/base",
            "_view_module_version": "1.2.0",
            "_view_name": "LayoutView",
            "align_content": null,
            "align_items": null,
            "align_self": null,
            "border": null,
            "bottom": null,
            "display": null,
            "flex": null,
            "flex_flow": null,
            "grid_area": null,
            "grid_auto_columns": null,
            "grid_auto_flow": null,
            "grid_auto_rows": null,
            "grid_column": null,
            "grid_gap": null,
            "grid_row": null,
            "grid_template_areas": null,
            "grid_template_columns": null,
            "grid_template_rows": null,
            "height": null,
            "justify_content": null,
            "justify_items": null,
            "left": null,
            "margin": null,
            "max_height": null,
            "max_width": null,
            "min_height": null,
            "min_width": null,
            "object_fit": null,
            "object_position": null,
            "order": null,
            "overflow": null,
            "overflow_x": null,
            "overflow_y": null,
            "padding": null,
            "right": null,
            "top": null,
            "visibility": null,
            "width": null
          }
        },
        "1d34a67006d540a787fb181f99ddea10": {
          "model_module": "@jupyter-widgets/controls",
          "model_name": "DescriptionStyleModel",
          "model_module_version": "1.5.0",
          "state": {
            "_model_module": "@jupyter-widgets/controls",
            "_model_module_version": "1.5.0",
            "_model_name": "DescriptionStyleModel",
            "_view_count": null,
            "_view_module": "@jupyter-widgets/base",
            "_view_module_version": "1.2.0",
            "_view_name": "StyleView",
            "description_width": ""
          }
        }
      }
    }
  },
  "nbformat": 4,
  "nbformat_minor": 0
}